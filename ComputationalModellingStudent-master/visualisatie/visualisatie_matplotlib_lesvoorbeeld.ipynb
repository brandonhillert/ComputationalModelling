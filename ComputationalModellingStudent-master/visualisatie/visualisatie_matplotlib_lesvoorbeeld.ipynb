{
 "cells": [
  {
   "cell_type": "markdown",
   "metadata": {},
   "source": [
    "# Essenties Ch4 Visualization met Matplotlib\n"
   ]
  },
  {
   "cell_type": "markdown",
   "metadata": {},
   "source": [
    "Hieronder een samenvatting van de belangrijkste onderdelen van Jake VanderPlas Ch4: Visualization with Matplotlib"
   ]
  },
  {
   "cell_type": "markdown",
   "metadata": {},
   "source": [
    "Andere bronnen:\n",
    "\n",
    "- https://matplotlib.org/users/pyplot_tutorial.html\n",
    "- https://www.datacamp.com/community/tutorials/matplotlib-tutorial-python\n",
    "- http://pandas.pydata.org/pandas-docs/stable/visualization.html"
   ]
  },
  {
   "cell_type": "code",
   "execution_count": null,
   "metadata": {},
   "outputs": [],
   "source": [
    "# zorgen dat plots in het notebook komen\n",
    "%matplotlib inline\n",
    "\n",
    "# importeren van de matplotlib\n",
    "import matplotlib.pyplot as plt\n",
    "\n",
    "# andere bibliotheken\n",
    "import numpy as np\n",
    "import pandas as pd"
   ]
  },
  {
   "cell_type": "code",
   "execution_count": null,
   "metadata": {},
   "outputs": [],
   "source": [
    "# een eerste voorbeeld\n",
    "x = np.linspace(0,10,100)   # 100 getallen tussen de 0 en 10\n",
    "y = x + 1\n",
    "plt.plot(x,y)\n",
    "plt.show()"
   ]
  },
  {
   "cell_type": "code",
   "execution_count": null,
   "metadata": {},
   "outputs": [],
   "source": [
    "# nu met 2 lijnen\n",
    "y2 = -x + 10\n",
    "plt.plot(x,y)\n",
    "plt.plot(x,y2)\n",
    "plt.show()"
   ]
  },
  {
   "cell_type": "code",
   "execution_count": null,
   "metadata": {},
   "outputs": [],
   "source": [
    "# zelf soort lijn en kleuren bepalen\n",
    "plt.plot(x,y,color='red', linestyle = '-')  # rode doorlopende lijn\n",
    "plt.plot(x,y2,color='green', linestyle = '--')  # blauwe gestreepte lijn\n",
    "plt.show()"
   ]
  },
  {
   "cell_type": "code",
   "execution_count": null,
   "metadata": {},
   "outputs": [],
   "source": [
    "# idem, verkorte schrijfwijze\n",
    "plt.plot(x,y,'-r')  # rode doorlopende lijn\n",
    "plt.plot(x,y2,'--g')  # blauwe gestreepte lijn\n",
    "plt.show()"
   ]
  },
  {
   "cell_type": "code",
   "execution_count": null,
   "metadata": {},
   "outputs": [],
   "source": [
    "# assen indelen\n",
    "plt.xlim(-1,11)\n",
    "plt.ylim(0,15)\n",
    "plt.plot(x,y,'-r')  # rode doorlopende lijn\n",
    "plt.show()"
   ]
  },
  {
   "cell_type": "code",
   "execution_count": null,
   "metadata": {},
   "outputs": [],
   "source": [
    "# toewijzen Labels\n",
    "plt.xlim(-1,11)\n",
    "plt.ylim(0,15)\n",
    "\n",
    "plt.plot(x,y,'-r', label='x + 1')  # rode doorlopende lijn\n",
    "plt.plot(x,y2,'--g', label='-x + 10')  # blauwe gestreepte lijn\n",
    "\n",
    "# Titel boven de grafiek:\n",
    "plt.title('Lijnen')\n",
    "# X-as label\n",
    "plt.xlabel('X-waarde')\n",
    "# Y-as label\n",
    "plt.ylabel('Y-waarde')\n",
    "# afdrukken legenda\n",
    "plt.legend()\n",
    "\n",
    "# annotatie\n",
    "plt.annotate('Midden', xy=(5,7),xytext=(7,12), arrowprops=dict(facecolor='black',shrink=0.05))\n",
    "\n",
    "plt.show()"
   ]
  },
  {
   "cell_type": "code",
   "execution_count": null,
   "metadata": {},
   "outputs": [],
   "source": [
    "import matplotlib.pylab as pylab\n",
    "\n",
    "params = {'axes.labelsize': 'xx-large',\n",
    "          'xtick.labelsize': 'xx-large',\n",
    "          'ytick.labelsize': 'xx-large'}\n",
    " \n",
    "pylab.rcParams.update(params)"
   ]
  },
  {
   "cell_type": "code",
   "execution_count": null,
   "metadata": {},
   "outputs": [],
   "source": [
    "# De OO-interface\n",
    "\n",
    "# Hierboven wordt de standaard matplotlib functies gebruikt. \n",
    "# Maar Matplotlib kan ook meer OO-gericht aangestuurd worden.\n",
    "\n",
    "# object figure: container voor alle grafische objecten\n",
    "fig = plt.figure(figsize=(9,6), dpi=150)\n",
    "\n",
    "# object axes: de grafiekbasis\n",
    "ax = plt.axes()\n",
    "\n",
    "ax.set(xlim=(-1,11),\n",
    "       ylim=(0,15),\n",
    "       xlabel='X-waarde',\n",
    "       ylabel='Y-waarde',\n",
    "       title='Lijnen')\n",
    "\n",
    "ax.plot(x,y,'-r')\n",
    "ax.plot(x,y2,'--g')\n",
    "\n",
    "ax.legend(['x+1','-x+10'])\n",
    "ax.annotate('Midden', xy=(5,7),xytext=(7,12), arrowprops=dict(facecolor='black',shrink=0.05))"
   ]
  },
  {
   "cell_type": "code",
   "execution_count": null,
   "metadata": {},
   "outputs": [],
   "source": [
    "# Variaties in ticks (as-gegevens) (OO interface)\n",
    "fig = plt.figure()\n",
    "ax = plt.axes()\n",
    "ax.set(xlim=(-1,11),\n",
    "       ylim=(0,15),\n",
    "       xlabel='X-waarde',\n",
    "       ylabel='Y-waarde',\n",
    "       title='Lijnen')\n",
    "\n",
    "# beperk X-as tot 4 punten:\n",
    "ax.xaxis.set_major_locator(plt.MaxNLocator(4))\n",
    "\n",
    "ax.plot(x,y,'-r')\n",
    "ax.plot(x,y2,'--g')\n"
   ]
  },
  {
   "cell_type": "code",
   "execution_count": null,
   "metadata": {},
   "outputs": [],
   "source": [
    "# Subplots (standaard interface)\n",
    "\n",
    "plt.subplot(1,2,1)  # 1 rij, 2 kolommen, kolom 1\n",
    "plt.xlim(-1,11)\n",
    "plt.ylim(0,15)\n",
    "plt.plot(x,y,'-r')  # rode doorlopende lijn\n",
    "\n",
    "plt.subplot(1,2,2)  # 1 rij, 2 kolommen, kolom 1\n",
    "plt.xlim(-1,11)\n",
    "plt.ylim(0,15)\n",
    "plt.plot(x,y2,'--g')  # groene gestreepte lijn\n",
    "\n",
    "plt.show()"
   ]
  },
  {
   "cell_type": "code",
   "execution_count": null,
   "metadata": {},
   "outputs": [],
   "source": [
    "# subplots (OO-interface)\n",
    "\n",
    "# 2 rijen 3 kolommen\n",
    "fig, ax = plt.subplots(2,3,sharex='col', sharey='row')\n",
    "\n",
    "# plt.subplots: 0-based array\n",
    "\n",
    "# 1e rij, kolom 1\n",
    "ax[0,0].plot(x,y,'-r')\n",
    "\n",
    "# 2e rij, kolom 3\n",
    "ax[1,2].plot(x,y2,'--g')"
   ]
  },
  {
   "cell_type": "markdown",
   "metadata": {},
   "source": [
    "## Andere grafieken"
   ]
  },
  {
   "cell_type": "code",
   "execution_count": null,
   "metadata": {},
   "outputs": [],
   "source": [
    "# Scatter grafiek\n",
    "xs = np.linspace(0,10,11)   # 11 getallen tussen de 0 en 10\n",
    "\n",
    "ys = xs + 1\n",
    "plt.scatter(xs,ys,marker='o')   # marker kent heel veel instellingsmogelijkheden"
   ]
  },
  {
   "cell_type": "code",
   "execution_count": null,
   "metadata": {},
   "outputs": [],
   "source": [
    "# Errorbar grafiek, met seaborn opmaak\n",
    "plt.style.use('seaborn-white')\n",
    "xe = np.linspace(0,10,11)   # 10 getallen\n",
    "ye = xe * xe    # kwadrateren\n",
    "dy = ye * 0.2   # error: +/-20% van de berekende waarde\n",
    "plt.errorbar(xe, ye, yerr=dy, fmt='.k')\n",
    "plt.show()"
   ]
  },
  {
   "cell_type": "code",
   "execution_count": null,
   "metadata": {},
   "outputs": [],
   "source": [
    "# Histogram, verdeling van de waarden\n",
    "\n",
    "yh = np.random.randn(1000)   # 1000 getallen rond de 0, die normaal verdeeld zijn\n",
    "plt.hist(yh,bins=9)          # histogram van 9 'balken'\n",
    "plt.show()"
   ]
  },
  {
   "cell_type": "code",
   "execution_count": null,
   "metadata": {},
   "outputs": [],
   "source": [
    "# Bar chart\n",
    "xb = np.linspace(0,10,11)   # 10 getallen\n",
    "yb = xb * xb    # kwadrateren\n",
    "plt.bar(xb,yb)\n",
    "plt.show()"
   ]
  },
  {
   "cell_type": "code",
   "execution_count": null,
   "metadata": {},
   "outputs": [],
   "source": [
    "# Pie chart\n",
    "yp = np.array([25,50,35,70])\n",
    "plt.pie(yp)\n",
    "plt.show()"
   ]
  },
  {
   "cell_type": "code",
   "execution_count": null,
   "metadata": {},
   "outputs": [],
   "source": []
  }
 ],
 "metadata": {
  "kernelspec": {
   "display_name": "Python 3",
   "language": "python",
   "name": "python3"
  },
  "language_info": {
   "codemirror_mode": {
    "name": "ipython",
    "version": 3
   },
   "file_extension": ".py",
   "mimetype": "text/x-python",
   "name": "python",
   "nbconvert_exporter": "python",
   "pygments_lexer": "ipython3",
   "version": "3.7.5"
  }
 },
 "nbformat": 4,
 "nbformat_minor": 2
}

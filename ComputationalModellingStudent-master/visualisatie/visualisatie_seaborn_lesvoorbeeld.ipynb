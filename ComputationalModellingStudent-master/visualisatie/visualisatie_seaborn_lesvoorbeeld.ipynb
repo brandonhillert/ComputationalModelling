{
 "cells": [
  {
   "cell_type": "code",
   "execution_count": null,
   "metadata": {},
   "outputs": [],
   "source": [
    "import numpy as np\n",
    "\n",
    "X = np.linspace(-np.pi, np.pi, 256, endpoint=True)\n",
    "C,S = np.cos(X), np.sin(X)"
   ]
  },
  {
   "cell_type": "code",
   "execution_count": null,
   "metadata": {},
   "outputs": [],
   "source": [
    "import matplotlib.pyplot as plt\n",
    "\n",
    "plt.plot(X,C)\n",
    "plt.plot(X,S)\n",
    "\n",
    "plt.show()"
   ]
  },
  {
   "cell_type": "code",
   "execution_count": null,
   "metadata": {},
   "outputs": [],
   "source": [
    "plt.style.use('seaborn-whitegrid')\n",
    "\n",
    "# Create a new figure of size 8x6 points, using 100 dots per inch\n",
    "plt.figure(figsize=(8,6), dpi=80)\n",
    "\n",
    "grid = plt.GridSpec(2,3,wspace=0.4,hspace=0.3)\n",
    "\n",
    "# Create a new subplot from a grid of 1x1\n",
    "plt.subplot(grid[0,0])\n",
    "\n",
    "X = np.linspace(-np.pi, np.pi, 20, endpoint=True)\n",
    "C,S = np.cos(X), np.sin(X)\n",
    "\n",
    "# Plot cosine using blue color with a continuous line of width 1 (pixels)\n",
    "plt.plot(X, C, '->', color=\"pink\", linewidth=1.0)\n",
    "\n",
    "plt.subplot(grid[0,1])\n",
    "\n",
    "# Plot sine using green color with a continuous line of width 1 (pixels)\n",
    "plt.plot(X, S, 'o', color=\"green\", linewidth=1.0, linestyle=\"-\")\n",
    "\n",
    "# Set x limits\n",
    "plt.xlim(-4.0,4.0)\n",
    "plt.axis('equal')\n",
    "\n",
    "# Set x ticks\n",
    "plt.xticks(np.linspace(-4,4,3), ('Hoi','Dag'))\n",
    "\n",
    "# Set y limits\n",
    "#plt.ylim(-1.0,1.0)\n",
    "\n",
    "# Set y ticks\n",
    "plt.yticks(np.linspace(-1,1,5,endpoint=True))\n",
    "\n",
    "# Save figure using 72 dots per inch\n",
    "# savefig(\"../figures/exercice_2.png\",dpi=72)\n",
    "\n",
    "\n",
    "p = -2 * np.pi * np.random.random_sample((10)) + np.pi\n",
    "q = -2 * np.random.random_sample((10)) + 1\n",
    "sizes = np.linspace(100,1000,10)\n",
    "\n",
    "plt.scatter(p,q,marker='o',s=sizes, c=sizes)\n",
    "plt.colorbar()\n",
    "\n",
    "plt.subplot(grid[0,2])\n",
    "\n",
    "yerr = 0.5\n",
    "Cerror = np.cos(X) + yerr*np.random.randn(20)\n",
    "\n",
    "plt.errorbar(X,Cerror,yerr=yerr,fmt='.k')\n",
    "\n",
    "plt.subplot(grid[1,:])\n",
    "\n",
    "data1 = np.random.randn(10000)\n",
    "data2 = np.random.randn(10000)*2\n",
    "data3 = np.random.randn(10000)+2\n",
    "\n",
    "kwargs = dict(histtype='stepfilled', alpha=0.3, normed=True, bins=50)\n",
    "\n",
    "plt.hist(data1, **kwargs, label='Basis')\n",
    "plt.hist(data2, **kwargs, label='Dubbel')\n",
    "plt.hist(data3, **kwargs, label='Opgehoogd')\n",
    "\n",
    "plt.legend()\n",
    "\n",
    "print(np.histogram(data1, bins=5))\n",
    "\n",
    "# Show result on screen\n",
    "plt.show()\n"
   ]
  },
  {
   "cell_type": "code",
   "execution_count": null,
   "metadata": {},
   "outputs": [],
   "source": [
    "fig, ax = plt.subplots(2)\n",
    "ax[0].plot(X,C)\n",
    "ax[1].plot(X,S)\n",
    "ax[0].text(0,1.1, \"Top o' the sinus\", size=10, color='gray')\n",
    "plt.show()"
   ]
  },
  {
   "cell_type": "code",
   "execution_count": null,
   "metadata": {},
   "outputs": [],
   "source": [
    "import pandas as pd\n",
    "import seaborn as sns\n",
    "\n",
    "data = np.random.multivariate_normal([0,0], [[5,2],[2,2]], size=2000)\n",
    "data = pd.DataFrame(data,columns=['x','y'])\n",
    "\n",
    "for col in 'xy':\n",
    "    sns.distplot(data[col])\n",
    "    \n",
    "plt.ylim(.0,.35)\n",
    "    \n",
    "plt.show()"
   ]
  },
  {
   "cell_type": "code",
   "execution_count": null,
   "metadata": {},
   "outputs": [],
   "source": [
    "sns.kdeplot(data['x'], data['y'])\n",
    "plt.show()"
   ]
  },
  {
   "cell_type": "code",
   "execution_count": null,
   "metadata": {},
   "outputs": [],
   "source": []
  }
 ],
 "metadata": {
  "kernelspec": {
   "display_name": "Python 3",
   "language": "python",
   "name": "python3"
  },
  "language_info": {
   "codemirror_mode": {
    "name": "ipython",
    "version": 3
   },
   "file_extension": ".py",
   "mimetype": "text/x-python",
   "name": "python",
   "nbconvert_exporter": "python",
   "pygments_lexer": "ipython3",
   "version": "3.7.5"
  }
 },
 "nbformat": 4,
 "nbformat_minor": 2
}

{
 "cells": [
  {
   "cell_type": "markdown",
   "metadata": {},
   "source": [
    "# Holoviews"
   ]
  },
  {
   "cell_type": "markdown",
   "metadata": {},
   "source": [
    "Voorbeeld om het hoge abstractieniveau en interactie van Holoviews te tonen."
   ]
  },
  {
   "cell_type": "code",
   "execution_count": null,
   "metadata": {},
   "outputs": [],
   "source": [
    "import pandas as pd                                        # DataFrame-functionaliteit\n",
    "import numpy as np                                         # Converteren van DataBunch\n",
    "\n",
    "from sklearn import datasets                               # Bevat de Iris-dataset\n",
    "\n",
    "import holoviews as hv\n",
    "\n",
    "hv.extension('bokeh')\n"
   ]
  },
  {
   "cell_type": "code",
   "execution_count": null,
   "metadata": {},
   "outputs": [],
   "source": [
    "irisBunch = datasets.load_iris()\n",
    "\n",
    "\n",
    "iris = pd.DataFrame(data= np.c_[irisBunch['data'], irisBunch['target']],\n",
    "                     columns= irisBunch['feature_names'] + ['species'])\n",
    "\n",
    "iris2 = iris.drop(['sepal length (cm)', 'sepal width (cm)'], axis=1)\n",
    "iris2.head()\n"
   ]
  },
  {
   "cell_type": "code",
   "execution_count": null,
   "metadata": {},
   "outputs": [],
   "source": [
    "vdims = [('petal length (cm)')]\n",
    "ds = hv.Dataset(iris2, ['petal width (cm)', 'species'], vdims)"
   ]
  },
  {
   "cell_type": "code",
   "execution_count": null,
   "metadata": {},
   "outputs": [],
   "source": [
    "%%opts Scatter [width=500 height=500]\n",
    "\n",
    "ds.to(hv.Scatter, 'petal width (cm)', 'petal length (cm)')"
   ]
  },
  {
   "cell_type": "code",
   "execution_count": null,
   "metadata": {},
   "outputs": [],
   "source": []
  }
 ],
 "metadata": {
  "anaconda-cloud": {},
  "kernelspec": {
   "display_name": "Python 3",
   "language": "python",
   "name": "python3"
  },
  "language_info": {
   "codemirror_mode": {
    "name": "ipython",
    "version": 3
   },
   "file_extension": ".py",
   "mimetype": "text/x-python",
   "name": "python",
   "nbconvert_exporter": "python",
   "pygments_lexer": "ipython3",
   "version": "3.7.5"
  }
 },
 "nbformat": 4,
 "nbformat_minor": 2
}

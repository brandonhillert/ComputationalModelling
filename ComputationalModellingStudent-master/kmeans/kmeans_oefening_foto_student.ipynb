{
 "cells": [
  {
   "cell_type": "markdown",
   "metadata": {},
   "source": [
    "# *k*-Means oefening - foto"
   ]
  },
  {
   "cell_type": "code",
   "execution_count": null,
   "metadata": {},
   "outputs": [],
   "source": [
    "# Import libraries\n",
    "import pandas as pd\n",
    "import numpy as np\n",
    "import matplotlib.pyplot as plt\n",
    "\n",
    "from sklearn.cluster import KMeans"
   ]
  },
  {
   "cell_type": "markdown",
   "metadata": {},
   "source": [
    "Gegeven zijn 19 pixels uit de foto"
   ]
  },
  {
   "cell_type": "code",
   "execution_count": null,
   "metadata": {},
   "outputs": [],
   "source": [
    "RGB = [[247,247,247],\n",
    "       [255,247,255],\n",
    "       [234,234,234],\n",
    "       [221,221,221],\n",
    "       [247,234,247],\n",
    "       [234,221,234],\n",
    "       [255,255,255],\n",
    "       [234,234,247],\n",
    "       [234,221,221],\n",
    "       [78,78,65],\n",
    "       [65,65,52],\n",
    "       [221,208,208],\n",
    "       [78,78,52],\n",
    "       [234,182,156],\n",
    "       [247,247,255],\n",
    "       [221,182,143],\n",
    "       [104,78,52],\n",
    "       [78,52,39],\n",
    "       [104,78,65]]\n",
    "len(RGB)"
   ]
  },
  {
   "cell_type": "markdown",
   "metadata": {},
   "source": [
    "Ter illustratie de kleuren van de 19 pixels"
   ]
  },
  {
   "cell_type": "code",
   "execution_count": null,
   "metadata": {},
   "outputs": [],
   "source": [
    "fig, ax = plt.subplots()\n",
    "\n",
    "i = 0\n",
    "for color in RGB:\n",
    "    circle = plt.Circle((i*0.2, 0.5), 0.1, color=[c / 256 for c in color], clip_on=False)\n",
    "    ax.add_artist(circle)\n",
    "    i += 1\n",
    "    \n",
    "plt.axis('off')\n",
    "plt.show()"
   ]
  },
  {
   "cell_type": "markdown",
   "metadata": {},
   "source": [
    "## Oefening"
   ]
  },
  {
   "cell_type": "markdown",
   "metadata": {},
   "source": [
    "Voer de clustering uit met kMeans."
   ]
  },
  {
   "cell_type": "code",
   "execution_count": null,
   "metadata": {
    "tags": [
     "student"
    ]
   },
   "outputs": [],
   "source": [
    ""
   ]
  },
  {
   "cell_type": "markdown",
   "metadata": {},
   "source": [
    "Onderzoek wat de middelpunten van de clusters zijn en welke kleur daar bij hoort."
   ]
  },
  {
   "cell_type": "code",
   "execution_count": null,
   "metadata": {
    "tags": [
     "student"
    ]
   },
   "outputs": [],
   "source": [
    ""
   ]
  },
  {
   "cell_type": "markdown",
   "metadata": {},
   "source": [
    "De RGB-waardes van 3 pixels van respectievelijk de trui, de achtergrond en het gezicht worden opgehaald:\n",
    "\n",
    "- [87,87,76]\n",
    "-                      [244,235,237]\n",
    "-                      [230, 175, 150 ]\n",
    "\n",
    "Controleer bij welk cluster de drie pixels horen volgens het voorspellingsmodel."
   ]
  },
  {
   "cell_type": "code",
   "execution_count": null,
   "metadata": {},
   "outputs": [],
   "source": [
    "# dit zijn steekproeven van resp. trui, achtergrond en gezicht\n",
    "colorsnap = np.array([[87,87,76], \n",
    "                      [244,235,237],\n",
    "                      [230, 175, 150 ]])\n"
   ]
  },
  {
   "cell_type": "code",
   "execution_count": null,
   "metadata": {
    "tags": [
     "student"
    ]
   },
   "outputs": [],
   "source": [
    ""
   ]
  },
  {
   "cell_type": "markdown",
   "metadata": {},
   "source": [
    "Vergelijk de kleuren van de drie pixels met de middelpunten van de clusters om te zien of het overeen komt."
   ]
  },
  {
   "cell_type": "code",
   "execution_count": null,
   "metadata": {
    "tags": [
     "student"
    ]
   },
   "outputs": [],
   "source": [
    ""
   ]
  },
  {
   "cell_type": "markdown",
   "metadata": {},
   "source": [
    "Toon de clustering van de dataset (de eerste 19 pixels) in een diagram met op de assen de RGB-waarden. Geef elk cluster daarbij ook een kleur, zodat ze te onderscheiden zijn.\n",
    "\n",
    "NB. Bij een 2D-visualisatie kun je natuurlijk maar twee van de drie RGB-waardes op de assen kwijt. Als je alle drie de assen tegelijk wilt tekenen, kan dat met een 3D-visualisatie. Gebruik hiervoor `fig.add_subplot(111, projection='3d')` als je dit wilt proberen."
   ]
  },
  {
   "cell_type": "code",
   "execution_count": null,
   "metadata": {},
   "outputs": [],
   "source": [
    "from mpl_toolkits.mplot3d import Axes3D\n"
   ]
  },
  {
   "cell_type": "code",
   "execution_count": null,
   "metadata": {
    "tags": [
     "student"
    ]
   },
   "outputs": [],
   "source": [
    ""
   ]
  },
  {
   "cell_type": "code",
   "execution_count": null,
   "metadata": {
    "tags": [
     "student"
    ]
   },
   "outputs": [],
   "source": [
    ""
   ]
  },
  {
   "cell_type": "code",
   "execution_count": null,
   "metadata": {
    "tags": [
     "student"
    ]
   },
   "outputs": [],
   "source": [
    ""
   ]
  },
  {
   "cell_type": "code",
   "execution_count": null,
   "metadata": {},
   "outputs": [],
   "source": []
  }
 ],
 "metadata": {
  "celltoolbar": "Tags",
  "kernelspec": {
   "display_name": "Python 3",
   "language": "python",
   "name": "python3"
  },
  "language_info": {
   "codemirror_mode": {
    "name": "ipython",
    "version": 3
   },
   "file_extension": ".py",
   "mimetype": "text/x-python",
   "name": "python",
   "nbconvert_exporter": "python",
   "pygments_lexer": "ipython3",
   "version": "3.6.5"
  }
 },
 "nbformat": 4,
 "nbformat_minor": 2
}
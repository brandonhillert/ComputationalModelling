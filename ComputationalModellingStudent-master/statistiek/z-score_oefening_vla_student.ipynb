{
 "cells": [
  {
   "cell_type": "markdown",
   "metadata": {
    "collapsed": true
   },
   "source": [
    "# Z-score\n",
    "\n",
    "## Oefening: vla-fabrikant"
   ]
  },
  {
   "cell_type": "markdown",
   "metadata": {},
   "source": [
    "Een fabrikant van pakken vla met een inhoud van 1000 ml wordt er van beschuldigd dat hij te weinig vla in zijn pakken doet.\n",
    "De Europese e-waarde norm is dat als een fabrikant op het pak zet dat er 1000 ml in zit, dat dan 97.5% van de producten dit ook minimaal moet hebben.\n",
    "\n",
    "De fabrikant kan op zijn machine de vulinhoud instellen. De uitgaande vulling (met andere woorden vulnauwkeurigheid) is normaal verdeeld met een standaardafwijking 5 ml .\n",
    "\n",
    "Waar moet de machine op ingesteld worden, om statistisch gezien te voldoen aan de e-waarde norm?\n"
   ]
  },
  {
   "cell_type": "markdown",
   "metadata": {},
   "source": [
    "### Uitwerking met de hand"
   ]
  },
  {
   "cell_type": "markdown",
   "metadata": {
    "tags": [
     "student"
    ]
   },
   "source": [
    ""
   ]
  },
  {
   "cell_type": "markdown",
   "metadata": {},
   "source": [
    "### Uitwerking met `scipy.stats`"
   ]
  },
  {
   "cell_type": "code",
   "execution_count": null,
   "metadata": {},
   "outputs": [],
   "source": [
    "import numpy as np\n",
    "import matplotlib.pyplot as plt\n",
    "import scipy.stats as stats"
   ]
  },
  {
   "cell_type": "code",
   "execution_count": null,
   "metadata": {
    "tags": [
     "student"
    ]
   },
   "outputs": [],
   "source": [
    ""
   ]
  },
  {
   "cell_type": "code",
   "execution_count": null,
   "metadata": {
    "tags": [
     "student"
    ]
   },
   "outputs": [],
   "source": [
    ""
   ]
  }
 ],
 "metadata": {
  "celltoolbar": "Tags",
  "kernelspec": {
   "display_name": "Python 3",
   "language": "python",
   "name": "python3"
  },
  "language_info": {
   "codemirror_mode": {
    "name": "ipython",
    "version": 3
   },
   "file_extension": ".py",
   "mimetype": "text/x-python",
   "name": "python",
   "nbconvert_exporter": "python",
   "pygments_lexer": "ipython3",
   "version": "3.7.5"
  }
 },
 "nbformat": 4,
 "nbformat_minor": 2
}
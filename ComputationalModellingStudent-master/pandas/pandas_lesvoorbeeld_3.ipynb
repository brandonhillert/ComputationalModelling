{
 "cells": [
  {
   "cell_type": "markdown",
   "metadata": {},
   "source": [
    "# Pandas – Lesvoorbeeld 3.\n",
    "\n",
    "## The Dataframe Data Structure"
   ]
  },
  {
   "cell_type": "markdown",
   "metadata": {},
   "source": [
    "Dit notebook komt van de Coursera cursus \n",
    "Introduction to Data Science in Python - week 2\n",
    "University of Michigan"
   ]
  },
  {
   "cell_type": "code",
   "execution_count": null,
   "metadata": {},
   "outputs": [],
   "source": [
    "# importeren van de numpy en pandas bibliotheek; Pandas gebruikt numpy bij verwerkingen\n",
    "import numpy as np\n",
    "import pandas as pd"
   ]
  },
  {
   "cell_type": "markdown",
   "metadata": {
    "collapsed": true
   },
   "source": [
    "De DataFrame Data Structure is bedoeld voor het opslaan en verwerken twee-dimensionale gegevens.\n",
    "Je kunt dit vergelijken met de inhoud van een database tabel. "
   ]
  },
  {
   "cell_type": "markdown",
   "metadata": {},
   "source": [
    "## Inlezen van bestanden"
   ]
  },
  {
   "cell_type": "code",
   "execution_count": null,
   "metadata": {},
   "outputs": [],
   "source": [
    "# inlezen van een csv (comma separated file)\n",
    "med = pd.read_csv('pandas_olympics.csv')\n",
    "med.head()"
   ]
  },
  {
   "cell_type": "code",
   "execution_count": null,
   "metadata": {},
   "outputs": [],
   "source": [
    "# opschonen: bovenste rij kan weg, de kolom met landen wordt de index\n",
    "med = pd.read_csv('pandas_olympics.csv', index_col = 0, skiprows=1)\n",
    "med.head()"
   ]
  },
  {
   "cell_type": "code",
   "execution_count": null,
   "metadata": {},
   "outputs": [],
   "source": [
    "# opvragen van de kolomnamen\n",
    "med.columns"
   ]
  },
  {
   "cell_type": "code",
   "execution_count": null,
   "metadata": {},
   "outputs": [],
   "source": [
    "# Hernoemen van de kolommen\n",
    "for col in med.columns:\n",
    "    if col[:2]=='01':\n",
    "        med.rename(columns={col:'Gold' + col[4:]}, inplace=True)\n",
    "    if col[:2]=='02':\n",
    "        med.rename(columns={col:'Silver' + col[4:]}, inplace=True)\n",
    "    if col[:2]=='03':\n",
    "        med.rename(columns={col:'Bronze' + col[4:]}, inplace=True)\n",
    "    if col[:1]=='№':\n",
    "        med.rename(columns={col:'#' + col[1:]}, inplace=True) \n",
    "\n",
    "med.head()"
   ]
  },
  {
   "cell_type": "markdown",
   "metadata": {},
   "source": [
    "# Querying a DataFrame"
   ]
  },
  {
   "cell_type": "code",
   "execution_count": null,
   "metadata": {},
   "outputs": [],
   "source": [
    "# Bepalen van welke landen minimaal 1 gouden medaille hebben\n",
    "med['Gold'] > 0"
   ]
  },
  {
   "cell_type": "code",
   "execution_count": null,
   "metadata": {},
   "outputs": [],
   "source": [
    "# bepalen van de gegevens rijen met minimaal 1 gouden medaille\n",
    "only_gold = med[med['Gold'] > 0]\n",
    "only_gold.head()"
   ]
  },
  {
   "cell_type": "code",
   "execution_count": null,
   "metadata": {},
   "outputs": [],
   "source": [
    "# tellen aantal landen met een gouden medaille\n",
    "only_gold['Gold'].count()"
   ]
  },
  {
   "cell_type": "code",
   "execution_count": null,
   "metadata": {},
   "outputs": [],
   "source": [
    "# bepaal het aantal landen met een gouden medaille voor de zomer of voor de winterspelen\n",
    "len(med[(med['Gold'] > 0) | (med['Gold.1'] > 0)])"
   ]
  },
  {
   "cell_type": "code",
   "execution_count": null,
   "metadata": {},
   "outputs": [],
   "source": [
    "# bepaal het land met alléén een gouden medaille voor de winterspelen\n",
    "med[(med['Gold'] == 0 ) & (med['Gold.1'] > 0)]"
   ]
  },
  {
   "cell_type": "markdown",
   "metadata": {},
   "source": [
    "# Indexing Dataframes"
   ]
  },
  {
   "cell_type": "markdown",
   "metadata": {},
   "source": [
    "De index van de Dataframe data structure is de 'snelle' ingang om de gegevens per rij op te vragen\n"
   ]
  },
  {
   "cell_type": "code",
   "execution_count": null,
   "metadata": {},
   "outputs": [],
   "source": [
    "# In de huidige set had de index nog geen eigen naam, die geven we nu\n",
    "med.index.name = 'Country'\n",
    "med.head()"
   ]
  },
  {
   "cell_type": "code",
   "execution_count": null,
   "metadata": {},
   "outputs": [],
   "source": [
    "# voor de huidige gegevens een andere kolom als index aanwijzen\n",
    "med = med.reset_index()      # eerst de bestaande index omzetten naar een gewone kolomwaarde\n",
    "med = med.set_index('Gold')  # nieuwe index toevoegen\n",
    "med.head()"
   ]
  },
  {
   "cell_type": "code",
   "execution_count": null,
   "metadata": {},
   "outputs": [],
   "source": [
    "# de gegevens sorteren op de nieuwe index\n",
    "med.sort_index()"
   ]
  },
  {
   "cell_type": "code",
   "execution_count": null,
   "metadata": {},
   "outputs": [],
   "source": [
    "# index weer weghalen, dataframe krijgt een rij-volgnummer als index\n",
    "med = med.reset_index()\n",
    "med.head()"
   ]
  },
  {
   "cell_type": "markdown",
   "metadata": {},
   "source": [
    "# Missing values"
   ]
  },
  {
   "cell_type": "markdown",
   "metadata": {},
   "source": [
    "In de praktijk blijken veel dataverzamelingen niet compleet te zijn. \n",
    "Er ontbreken meetgegevens. Maar toch willen we de data onderzoeken.\n",
    "Ontbrekenkende meetgegevens willen we graag detecteren en daarna bepalen wat we ermee doen:\n",
    "- de hele rij met gegevens weghalen\n",
    "- ontbrekende meetgegevens invullen met een relevante waarde\n"
   ]
  },
  {
   "cell_type": "code",
   "execution_count": null,
   "metadata": {},
   "outputs": [],
   "source": [
    "# inlezen van een dataverzameling met daarin ontbrekende meetgegevens\n",
    "dfmv = pd.read_csv('pandas_log.csv')\n",
    "dfmv"
   ]
  },
  {
   "cell_type": "code",
   "execution_count": null,
   "metadata": {},
   "outputs": [],
   "source": [
    "# bepalen waar er waarden ontbreken\n",
    "dfmv.isnull()"
   ]
  },
  {
   "cell_type": "code",
   "execution_count": null,
   "metadata": {},
   "outputs": [],
   "source": [
    "# bepalen wat we overhouden als we alleen de rijen met volledige meetgegevens hebben\n",
    "dfmv.dropna(how='any')"
   ]
  },
  {
   "cell_type": "code",
   "execution_count": null,
   "metadata": {},
   "outputs": [],
   "source": [
    "# bepalen wat we overhouden als we alleen de rijen met meetgegevens hebben zonder Paused informatie\n",
    "dfmv.dropna(subset=['volume'])"
   ]
  },
  {
   "cell_type": "code",
   "execution_count": null,
   "metadata": {},
   "outputs": [],
   "source": [
    "# opvullen paused informatie met 'False' als deze niet bekend is\n",
    "dfmv['paused'] = dfmv['paused'].fillna(False)\n",
    "dfmv"
   ]
  },
  {
   "cell_type": "code",
   "execution_count": null,
   "metadata": {},
   "outputs": [],
   "source": [
    "# aanmaken van een index op tijd en user\n",
    "dfmv = dfmv.reset_index()\n",
    "dfmv = dfmv.set_index(['time', 'user'])\n",
    "dfmv"
   ]
  },
  {
   "cell_type": "code",
   "execution_count": null,
   "metadata": {},
   "outputs": [],
   "source": [
    "# vul de onbekende waarden op door de voorgaande waarde te kopiëren op volgorde van de index:\n",
    "dfmv = dfmv.fillna(method='ffill')\n",
    "dfmv"
   ]
  },
  {
   "cell_type": "code",
   "execution_count": null,
   "metadata": {},
   "outputs": [],
   "source": []
  }
 ],
 "metadata": {
  "anaconda-cloud": {},
  "kernelspec": {
   "display_name": "Python 3",
   "language": "python",
   "name": "python3"
  },
  "language_info": {
   "codemirror_mode": {
    "name": "ipython",
    "version": 3
   },
   "file_extension": ".py",
   "mimetype": "text/x-python",
   "name": "python",
   "nbconvert_exporter": "python",
   "pygments_lexer": "ipython3",
   "version": "3.7.5"
  }
 },
 "nbformat": 4,
 "nbformat_minor": 1
}

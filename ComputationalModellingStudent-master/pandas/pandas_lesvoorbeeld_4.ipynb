{
 "cells": [
  {
   "cell_type": "markdown",
   "metadata": {},
   "source": [
    "# Pandas – Lesvoorbeeld 4.\n",
    "\n",
    "## The Dataframe Data Structure"
   ]
  },
  {
   "cell_type": "markdown",
   "metadata": {},
   "source": [
    "Dit notebook komt deels van de Coursera cursus \n",
    "Introduction to Data Science in Python - week 2\n",
    "University of Michigan"
   ]
  },
  {
   "cell_type": "code",
   "execution_count": null,
   "metadata": {},
   "outputs": [],
   "source": [
    "# importeren van de numpy en pandas bibliotheek; Pandas gebruikt numpy bij verwerkingen\n",
    "import numpy as np\n",
    "import pandas as pd\n"
   ]
  },
  {
   "cell_type": "markdown",
   "metadata": {},
   "source": [
    "## Multilevel index"
   ]
  },
  {
   "cell_type": "markdown",
   "metadata": {},
   "source": [
    "Een multilevel index biedt de mogelijkheid om gemakkelijk groepen gegevens uit dataframe structuren te halen.\n",
    "Het is een manier om gegevens die toch meer dan 2 dimensies hebben toch overzichtelijk te verwerken."
   ]
  },
  {
   "cell_type": "code",
   "execution_count": null,
   "metadata": {},
   "outputs": [],
   "source": [
    "# inlezen van bevolkingsgegevens van de USA\n",
    "dfcs = pd.read_csv('pandas_census.csv')\n",
    "dfcs.head()"
   ]
  },
  {
   "cell_type": "code",
   "execution_count": null,
   "metadata": {},
   "outputs": [],
   "source": [
    "# SUMLEV is een aanduiding van het telnivau: 40=staatniveau, 50=plaatsniveau\n",
    "dfcs['SUMLEV'].unique()"
   ]
  },
  {
   "cell_type": "code",
   "execution_count": null,
   "metadata": {},
   "outputs": [],
   "source": [
    "# alleen de tellingen per plaats verzamelen\n",
    "dfcs=dfcs[dfcs['SUMLEV'] == 50]\n",
    "dfcs.head()"
   ]
  },
  {
   "cell_type": "code",
   "execution_count": null,
   "metadata": {},
   "outputs": [],
   "source": [
    "# De gegevens bestaat uit 100 kolommen, maar we zijn maar geïnteresseerd in enkele kolommen\n",
    "columns_to_keep = ['STNAME',\n",
    "                   'CTYNAME',\n",
    "                   'BIRTHS2010',\n",
    "                   'BIRTHS2011',\n",
    "                   'BIRTHS2012',\n",
    "                   'BIRTHS2013',\n",
    "                   'BIRTHS2014',\n",
    "                   'BIRTHS2015',\n",
    "                   'POPESTIMATE2010',\n",
    "                   'POPESTIMATE2011',\n",
    "                   'POPESTIMATE2012',\n",
    "                   'POPESTIMATE2013',\n",
    "                   'POPESTIMATE2014',\n",
    "                   'POPESTIMATE2015']\n",
    "dfcs = dfcs[columns_to_keep]\n",
    "dfcs.head()"
   ]
  },
  {
   "cell_type": "code",
   "execution_count": null,
   "metadata": {},
   "outputs": [],
   "source": [
    "# nu gaan we een meer-niveau index toevoegen\n",
    "dfcs = dfcs.set_index(['STNAME', 'CTYNAME'])\n",
    "dfcs.head()"
   ]
  },
  {
   "cell_type": "code",
   "execution_count": null,
   "metadata": {},
   "outputs": [],
   "source": [
    "# Nu kunnen we op de combinatie-index gegevens opvragen\n",
    "dfcs.loc[('Michigan', 'Washtenaw County')]"
   ]
  },
  {
   "cell_type": "code",
   "execution_count": null,
   "metadata": {
    "scrolled": false
   },
   "outputs": [],
   "source": [
    "# ook nu kunnen we een reeks rijen en daarvan bepaalde kolommen opvragen\n",
    "dfcs.loc[ [('Michigan', 'Washtenaw County'),('Michigan', 'Wayne County')],['POPESTIMATE2010','POPESTIMATE2015']] "
   ]
  },
  {
   "cell_type": "markdown",
   "metadata": {},
   "source": [
    "## Krachtige functieverwerking op dataframe rij niveau"
   ]
  },
  {
   "cell_type": "code",
   "execution_count": null,
   "metadata": {},
   "outputs": [],
   "source": [
    "# definitie van een python functie die een minimale en maximale waarde van het bevolkingsaantal bepaald\n",
    "def min_max(row):\n",
    "    data = row[['POPESTIMATE2010',\n",
    "                'POPESTIMATE2011',\n",
    "                'POPESTIMATE2012',\n",
    "                'POPESTIMATE2013',\n",
    "                'POPESTIMATE2014',\n",
    "                'POPESTIMATE2015']]\n",
    "    return pd.Series({'min': np.min(data), 'max': np.max(data)})"
   ]
  },
  {
   "cell_type": "code",
   "execution_count": null,
   "metadata": {},
   "outputs": [],
   "source": [
    "# de gedefinieerde functie op elke rij van de dataset uit laten voeren\n",
    "dfcsmm = dfcs.apply(min_max, axis=1)\n",
    "dfcsmm.head()"
   ]
  },
  {
   "cell_type": "code",
   "execution_count": null,
   "metadata": {},
   "outputs": [],
   "source": [
    "# definitie van een functie die 2 kolommen toevoegt aan de oorspronkelijke rijen\n",
    "def min_max_2(row):\n",
    "    data = row[['POPESTIMATE2010',\n",
    "                'POPESTIMATE2011',\n",
    "                'POPESTIMATE2012',\n",
    "                'POPESTIMATE2013',\n",
    "                'POPESTIMATE2014',\n",
    "                'POPESTIMATE2015']]\n",
    "    row['POPESTIMATEMAX'] = np.max(data)  # extra column\n",
    "    row['POPESTIMATEMIN'] = np.min(data)  # extra column\n",
    "    return row\n",
    "dfcsmm2 = dfcs.apply(min_max_2, axis=1)\n",
    "dfcsmm2.head()"
   ]
  },
  {
   "cell_type": "markdown",
   "metadata": {},
   "source": [
    "# Group by"
   ]
  },
  {
   "cell_type": "markdown",
   "metadata": {},
   "source": [
    "Group by biedt krachtige verwerkingen om een grote verzameling gegevens per groep te analyseren. (Dit is een beetje vergelijkbaar met de SQL GROUP BY mogelijkheid)"
   ]
  },
  {
   "cell_type": "code",
   "execution_count": null,
   "metadata": {},
   "outputs": [],
   "source": [
    "# Het bepalen van het gemiddeld aantal geboren kinderen per staat van alle steden in de staat\n",
    "dfcs.groupby('STNAME')['BIRTHS2015'].agg(['mean'])"
   ]
  },
  {
   "cell_type": "code",
   "execution_count": null,
   "metadata": {},
   "outputs": [],
   "source": [
    "dfcs.head()"
   ]
  },
  {
   "cell_type": "code",
   "execution_count": null,
   "metadata": {},
   "outputs": [],
   "source": [
    "# Ook meerdere berekeningen kunnen gezamenlijk\n",
    "dfcs.groupby(level=0)['BIRTHS2015'].agg(['mean','sum','min','max'])\n",
    "# (Hier wordt de index met behulp van een level aangeduidt: level 0 is 'STNAME')"
   ]
  },
  {
   "cell_type": "code",
   "execution_count": null,
   "metadata": {},
   "outputs": [],
   "source": [
    "# Kan ook op meerdere kolommmen\n",
    "(dfcs.groupby(level=0)['POPESTIMATE2010','POPESTIMATE2011'].agg(['mean','sum']))"
   ]
  },
  {
   "cell_type": "code",
   "execution_count": null,
   "metadata": {},
   "outputs": [],
   "source": [
    "# Nog ingewikkelder: de berekening per kolom verschilt:\n",
    "(dfcs.groupby(level=0)['POPESTIMATE2010','POPESTIMATE2011']\n",
    "    .agg({'POPESTIMATE2010': np.average, 'POPESTIMATE2011': np.sum}))"
   ]
  },
  {
   "cell_type": "code",
   "execution_count": null,
   "metadata": {},
   "outputs": [],
   "source": [
    "# Einde"
   ]
  }
 ],
 "metadata": {
  "anaconda-cloud": {},
  "kernelspec": {
   "display_name": "Python 3",
   "language": "python",
   "name": "python3"
  },
  "language_info": {
   "codemirror_mode": {
    "name": "ipython",
    "version": 3
   },
   "file_extension": ".py",
   "mimetype": "text/x-python",
   "name": "python",
   "nbconvert_exporter": "python",
   "pygments_lexer": "ipython3",
   "version": "3.6.5"
  }
 },
 "nbformat": 4,
 "nbformat_minor": 1
}

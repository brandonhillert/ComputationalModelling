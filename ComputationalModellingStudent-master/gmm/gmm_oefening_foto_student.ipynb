{
 "cells": [
  {
   "cell_type": "markdown",
   "metadata": {},
   "source": [
    "# Gaussian Mixture Models"
   ]
  },
  {
   "cell_type": "code",
   "execution_count": null,
   "metadata": {},
   "outputs": [],
   "source": [
    "# Import libraries\n",
    "import pandas as pd\n",
    "import numpy as np\n",
    "import matplotlib.pyplot as plt\n",
    "from sklearn.mixture import GaussianMixture\n",
    "\n",
    "from sklearn.cluster import KMeans\n",
    "from mpl_toolkits.mplot3d import Axes3D\n",
    "\n"
   ]
  },
  {
   "cell_type": "code",
   "execution_count": null,
   "metadata": {},
   "outputs": [],
   "source": [
    "# RGB-waardes van pixels uit de foto\n",
    "RGB = [[247, 247, 247],\n",
    "       [255, 247, 255],\n",
    "       [234, 234, 234],\n",
    "       [221, 221, 221],\n",
    "       [247, 234, 247],\n",
    "       [234, 221, 234],\n",
    "       [255, 255, 255],\n",
    "       [235, 164, 152],\n",
    "       [234, 234, 247],\n",
    "       [234, 221, 221],\n",
    "       [ 78,  78,  65],\n",
    "       [231, 150, 151],\n",
    "       [ 65,  65,  52],\n",
    "       [221, 208, 208],\n",
    "       [ 78,  78,  52],\n",
    "       [234, 182, 156],\n",
    "       [247, 247, 255],\n",
    "       [221, 182, 143],\n",
    "       [104, 78,   52],\n",
    "       [ 78, 52,   39],\n",
    "       [104, 78,   65],\n",
    "       [234, 168, 149],\n",
    "       [233, 161, 156]]\n",
    "\n",
    "len(RGB)"
   ]
  },
  {
   "cell_type": "code",
   "execution_count": null,
   "metadata": {},
   "outputs": [],
   "source": [
    "fig, ax = plt.subplots()\n",
    "\n",
    "i = 0\n",
    "for color in RGB:\n",
    "    circle = plt.Circle((i*0.2, 0.5), 0.1, color=[c/256 for c in color], clip_on=False)\n",
    "    ax.add_artist(circle)\n",
    "    ax.text(i*0.2, 0.3, str(i+1)) #, fontsize='large', color='darkblue')\n",
    "    i += 1\n",
    "    \n",
    "plt.axis('off')\n",
    "plt.show()"
   ]
  },
  {
   "cell_type": "markdown",
   "metadata": {},
   "source": [
    "### 1. Maak een GMM aan"
   ]
  },
  {
   "cell_type": "code",
   "execution_count": null,
   "metadata": {
    "tags": [
     "student"
    ]
   },
   "outputs": [],
   "source": [
    ""
   ]
  },
  {
   "cell_type": "markdown",
   "metadata": {},
   "source": [
    "### 2. Train het model"
   ]
  },
  {
   "cell_type": "code",
   "execution_count": null,
   "metadata": {
    "tags": [
     "student"
    ]
   },
   "outputs": [],
   "source": [
    ""
   ]
  },
  {
   "cell_type": "markdown",
   "metadata": {},
   "source": [
    "### 3. Toon de klassen van de gegeven waarden"
   ]
  },
  {
   "cell_type": "code",
   "execution_count": null,
   "metadata": {
    "tags": [
     "student"
    ]
   },
   "outputs": [],
   "source": [
    ""
   ]
  },
  {
   "cell_type": "markdown",
   "metadata": {},
   "source": [
    "### Voorspel het cluster van de kleur (240, 204, 179)"
   ]
  },
  {
   "cell_type": "code",
   "execution_count": null,
   "metadata": {},
   "outputs": [],
   "source": [
    "colorsnap = np.array([240, 204, 179])\n",
    "\n",
    "fig, ax = plt.subplots()\n",
    "\n",
    "circle = plt.Circle((0.2, 0.25), 0.1, color=[c/256 for c in colorsnap], clip_on=False)\n",
    "ax.add_artist(circle)\n",
    "    \n",
    "plt.axis('off')\n",
    "plt.show()"
   ]
  },
  {
   "cell_type": "code",
   "execution_count": null,
   "metadata": {
    "tags": [
     "student"
    ]
   },
   "outputs": [],
   "source": [
    ""
   ]
  },
  {
   "cell_type": "code",
   "execution_count": null,
   "metadata": {
    "tags": [
     "student"
    ]
   },
   "outputs": [],
   "source": [
    ""
   ]
  },
  {
   "cell_type": "code",
   "execution_count": null,
   "metadata": {
    "tags": [
     "student"
    ]
   },
   "outputs": [],
   "source": [
    ""
   ]
  }
 ],
 "metadata": {
  "celltoolbar": "Tags",
  "kernelspec": {
   "display_name": "Python 3",
   "language": "python",
   "name": "python3"
  },
  "language_info": {
   "codemirror_mode": {
    "name": "ipython",
    "version": 3
   },
   "file_extension": ".py",
   "mimetype": "text/x-python",
   "name": "python",
   "nbconvert_exporter": "python",
   "pygments_lexer": "ipython3",
   "version": "3.6.5"
  }
 },
 "nbformat": 4,
 "nbformat_minor": 2
}
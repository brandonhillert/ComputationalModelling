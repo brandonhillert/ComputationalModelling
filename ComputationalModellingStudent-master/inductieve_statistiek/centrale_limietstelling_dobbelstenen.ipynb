{
 "cells": [
  {
   "cell_type": "code",
   "execution_count": null,
   "metadata": {},
   "outputs": [],
   "source": [
    "import random\n",
    "from scipy import stats as ss\n",
    "import numpy as np\n",
    "import matplotlib.pyplot as plt\n",
    "import matplotlib as mpl\n",
    "import matplotlib.pylab as pylab\n",
    "\n",
    "hu_rood = \"#d7000d\"\n",
    "hu_blauw = \"#00a0d2\"\n",
    "mpl.style.use(['seaborn-notebook', 'seaborn-darkgrid'])\n",
    "\n",
    "params = {'xtick.labelsize': 'xx-large', 'ytick.labelsize': 'xx-large', 'figure.titlesize': 'xx-large'}\n",
    "pylab.rcParams.update(params)\n",
    "\n",
    "fsize, fdpi = (10,6), 150"
   ]
  },
  {
   "cell_type": "markdown",
   "metadata": {},
   "source": [
    "## Muntworpen (binomiale verdeling)"
   ]
  },
  {
   "cell_type": "code",
   "execution_count": null,
   "metadata": {},
   "outputs": [],
   "source": [
    "def kop_munt_worp():\n",
    "    # kop = 0 en munt = 1\n",
    "    return np.random.randint(0,2)"
   ]
  },
  {
   "cell_type": "code",
   "execution_count": null,
   "metadata": {},
   "outputs": [],
   "source": [
    "kop_munt_worp()"
   ]
  },
  {
   "cell_type": "code",
   "execution_count": null,
   "metadata": {},
   "outputs": [],
   "source": [
    "def aantal_munt_10_worpen():\n",
    "    som = 0\n",
    "    for _ in range(10):\n",
    "        som += kop_munt_worp()\n",
    "    return som"
   ]
  },
  {
   "cell_type": "code",
   "execution_count": null,
   "metadata": {},
   "outputs": [],
   "source": [
    "lst_aantal_munt = []"
   ]
  },
  {
   "cell_type": "code",
   "execution_count": null,
   "metadata": {},
   "outputs": [],
   "source": [
    "munt = aantal_munt_10_worpen()\n",
    "lst_aantal_munt.append(munt)\n",
    "lst_aantal_munt"
   ]
  },
  {
   "cell_type": "code",
   "execution_count": null,
   "metadata": {},
   "outputs": [],
   "source": [
    "for _ in range(1000):\n",
    "    munt = aantal_munt_10_worpen()\n",
    "    lst_aantal_munt.append(munt)\n",
    "    \n",
    "len(lst_aantal_munt)"
   ]
  },
  {
   "cell_type": "code",
   "execution_count": null,
   "metadata": {},
   "outputs": [],
   "source": [
    "arr_aantal_munt = np.array(lst_aantal_munt)\n",
    "plt.hist(arr_aantal_munt)"
   ]
  },
  {
   "cell_type": "markdown",
   "metadata": {},
   "source": [
    "## Dobbelsteenworpen (homogene verdeling)"
   ]
  },
  {
   "cell_type": "code",
   "execution_count": null,
   "metadata": {},
   "outputs": [],
   "source": [
    "aantal_dobbelstenen = [1, 10, 100, 1000]\n",
    "worpen = [np.random.randint(1, 7, size=(1000, i)) for i in aantal_dobbelstenen]\n",
    "sommen = [worp.mean(axis=1) for worp in worpen]\n",
    "\n",
    "plt.figure(figsize=fsize, dpi=fdpi)\n",
    "for i in range(0, 4):\n",
    "    h = aantal_dobbelstenen[i]\n",
    "    ax = plt.subplot(2, 2, i+1)\n",
    "    plt.hist(sommen[i], bins=max(6, min(25, int(np.sqrt(h)))), alpha=0.5)\n",
    "    plt.title(\"1000 worpen met {} dobbelstenen, gemiddelde = {:.2f}\".format(h, sommen[i].mean()))\n",
    "    \n",
    "plt.tight_layout()"
   ]
  },
  {
   "cell_type": "code",
   "execution_count": null,
   "metadata": {},
   "outputs": [],
   "source": []
  }
 ],
 "metadata": {
  "celltoolbar": "Slideshow",
  "kernelspec": {
   "display_name": "Python 3",
   "language": "python",
   "name": "python3"
  },
  "language_info": {
   "codemirror_mode": {
    "name": "ipython",
    "version": 3
   },
   "file_extension": ".py",
   "mimetype": "text/x-python",
   "name": "python",
   "nbconvert_exporter": "python",
   "pygments_lexer": "ipython3",
   "version": "3.7.5"
  }
 },
 "nbformat": 4,
 "nbformat_minor": 1
}

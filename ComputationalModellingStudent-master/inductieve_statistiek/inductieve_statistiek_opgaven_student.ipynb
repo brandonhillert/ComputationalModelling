{
 "cells": [
  {
   "cell_type": "markdown",
   "metadata": {},
   "source": [
    "# Betrouwbaarheidsintervallen"
   ]
  },
  {
   "cell_type": "code",
   "execution_count": null,
   "metadata": {},
   "outputs": [],
   "source": [
    "import numpy as np\n",
    "import pandas as pd\n",
    "import matplotlib.pyplot as plt\n",
    "import scipy.stats as stats"
   ]
  },
  {
   "attachments": {},
   "cell_type": "markdown",
   "metadata": {},
   "source": [
    "### Voorbeeld uit de les\n",
    "- Stel: n = 400, σ = 1.5, steekproefgemiddelde = 6.03\n",
    "- Wat is het 95% betrouwbaarheidsinterval van het gemiddelde ?\n"
   ]
  },
  {
   "cell_type": "markdown",
   "metadata": {},
   "source": [
    "Betrouwbaarheidsinterval:\n",
    "\n",
    "## $\\bar{x} - z \\sigma_{\\bar{x}} < \\bar{x} < \\bar{x} + z \\sigma_{\\bar{x}}$\n",
    "\n",
    "## $= \\bar{x} - z \\frac{\\sigma}{\\sqrt{n}} < \\bar{x} < \\bar{x} + z \\frac{\\sigma}{\\sqrt{n}}$ (want $\\sigma_{\\bar{x}} = \\frac{\\sigma}{\\sqrt{n}}$)\n",
    "\n",
    "## $= \\bar{x} - z \\frac{s}{\\sqrt{n}} < \\bar{x} < \\bar{x} + z \\frac{s}{\\sqrt{n}}$ (als $\\sigma$ onbekend)"
   ]
  },
  {
   "cell_type": "code",
   "execution_count": null,
   "metadata": {},
   "outputs": [],
   "source": [
    "# resultaat\n",
    "steekproef_n = 400\n",
    "steekproef_gem = 6.03\n",
    "populatie_sigma = 1.5\n",
    "z_waarde = stats.norm.ppf(.975)  # (5% foutkans, 2 zijden, dus tot 0.975\n",
    "betrouwbaarheid = z_waarde * (populatie_sigma / np.sqrt(steekproef_n))\n",
    "interval_van = steekproef_gem - betrouwbaarheid\n",
    "interval_tot = steekproef_gem + betrouwbaarheid\n",
    "\n",
    "print(\"Steekproefgrootte n: \",steekproef_n)\n",
    "print(\"Steekproefgemiddelde x: {:.2f}\".format(steekproef_gem))\n",
    "print(\"Populatie standaarddeviatie sigma: {:.2f}\".format(populatie_sigma))\n",
    "print(\"Z-waarde bij 95% betrouwbaarheid z: {:.2f}\".format(z_waarde))\n",
    "print(\"Betrouwbaarheidsinterval: {:.2f} - {:.2f}\".format(interval_van,interval_tot ))\n",
    "\n",
    "# Of direct met de scipy formule:\n",
    "stats.norm.interval(0.95, loc=steekproef_gem , scale=populatie_sigma/np.sqrt(steekproef_n ))"
   ]
  },
  {
   "cell_type": "markdown",
   "metadata": {},
   "source": [
    "### Lesopdracht \n",
    "Wat is het betrouwbaarheidsinterval bij 90% resp 99% ?\n"
   ]
  },
  {
   "cell_type": "code",
   "execution_count": null,
   "metadata": {
    "tags": [
     "student"
    ]
   },
   "outputs": [],
   "source": [
    ""
   ]
  },
  {
   "cell_type": "markdown",
   "metadata": {},
   "source": [
    "### Opgave 1.1: Betrouwbaarheidsinterval munten\n",
    "Stel de Nederlandse bank wil controleren of de één Euro munten het juiste gewicht hebben.\n",
    "De Nederlandse bank weet dat de standaarddeviatie van het gewicht van de één Euro munten 0,1 gram is.\n",
    "Er wordt een steekproef genomen van 10 munten. Deze hebben de volgende gewichten in gram:\n",
    "7.49, 7.50, 7.48, 7.52, 7.51, 7.50, 7.51, 7.48, 7.48, 7.49.\n",
    "Bepaal het steekproefgemiddelde en het betrouwbaarheidsinterval bij 95% betrouwbaarheid\n",
    "<span style=\"font-size: x-small;\">(uit: Basisvaardigheden Toegepaste Statistiek, voorbeeld 7.8)</span>"
   ]
  },
  {
   "cell_type": "code",
   "execution_count": null,
   "metadata": {
    "tags": [
     "student"
    ]
   },
   "outputs": [],
   "source": [
    ""
   ]
  },
  {
   "cell_type": "markdown",
   "metadata": {},
   "source": [
    "### Opgave 1.2: Betrouwbaarheidsinterval bij onbekende  $\\sigma$\n",
    "Stel we doen een steekproef onder 16 ICT studenten en vragen hoeveel uur ze in de week gamen.\n",
    "Als resultaten krijgen we: 12.0, 3.5, 6.0, 9.0, 15.0, 12.5, 7.5, 4.5, 9.0, 10.0, 0.0, 12.0, 9.0, 7.5, 14.0, 4.0\n",
    "Wat is het steekproefgemiddelde en wat is het betrouwbaarheidsinterval met 95% betrouwbaarheid ? "
   ]
  },
  {
   "cell_type": "code",
   "execution_count": null,
   "metadata": {
    "tags": [
     "student"
    ]
   },
   "outputs": [],
   "source": [
    ""
   ]
  },
  {
   "cell_type": "markdown",
   "metadata": {},
   "source": [
    "### Opgave 1.3: Vanuit betrouwbaarheidsinterval naar betrouwbaarheidpercentage (extra)\n",
    "Stel een bedrijf wil weten wat de voorkeur van haar werknemers is om met pensioen te gaan. De vraag wordt voorgelegd aan 36 werknemers. Het resultaat is een gemiddelde van 63,4 jaar met een standaarddeviatie van 1,8 jaar. Het bedrijf rapporteert dat de gemiddelde leeftijd ligt tussen de 62,9 en 63,9 jaar. Wat is de daarbij gehanteerde betrouwbaarheid in % ?\n",
    "<span style=\"font-size: x-small;\">(uit: Basisvaardigheden Toegepaste Statistiek, opdracht 7.8-4)</span>"
   ]
  },
  {
   "cell_type": "code",
   "execution_count": null,
   "metadata": {
    "tags": [
     "student"
    ]
   },
   "outputs": [],
   "source": [
    ""
   ]
  },
  {
   "cell_type": "markdown",
   "metadata": {},
   "source": [
    "### Opgave 1.4: Vanuit betrouwbaarheidsinterval naar steekproefgrootte (extra)\n",
    "Een opleidingsinstituut (geen ICT) voert een onderzoek uit naar het aantal dagen dat een afgestudeerde moet zoeken naar werk. Het resultaat is het interval van 98 tot/met 106 dagen met een standaarddeviatie van 22 dagen bij een betrouwbaarheid van 90%. Wat is de steekproefgrootte die hierbij gehanteerd is ?\n"
   ]
  },
  {
   "cell_type": "code",
   "execution_count": null,
   "metadata": {
    "tags": [
     "student"
    ]
   },
   "outputs": [],
   "source": [
    ""
   ]
  },
  {
   "cell_type": "code",
   "execution_count": null,
   "metadata": {},
   "outputs": [],
   "source": []
  }
 ],
 "metadata": {
  "celltoolbar": "Tags",
  "kernelspec": {
   "display_name": "Python 3",
   "language": "python",
   "name": "python3"
  },
  "language_info": {
   "codemirror_mode": {
    "name": "ipython",
    "version": 3
   },
   "file_extension": ".py",
   "mimetype": "text/x-python",
   "name": "python",
   "nbconvert_exporter": "python",
   "pygments_lexer": "ipython3",
   "version": "3.6.7"
  }
 },
 "nbformat": 4,
 "nbformat_minor": 2
}
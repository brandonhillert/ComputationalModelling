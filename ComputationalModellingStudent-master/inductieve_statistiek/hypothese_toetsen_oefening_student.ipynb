{
 "cells": [
  {
   "cell_type": "markdown",
   "metadata": {},
   "source": [
    "# Hypothese toetsen (Z-toets)"
   ]
  },
  {
   "cell_type": "code",
   "execution_count": null,
   "metadata": {},
   "outputs": [],
   "source": [
    "import numpy as np\n",
    "import matplotlib.pyplot as plt\n",
    "import scipy.stats as stats\n",
    "import scipy as sp"
   ]
  },
  {
   "cell_type": "markdown",
   "metadata": {},
   "source": [
    "## Voorbeeld - leessnelheid: *Serif* vs. *Sans Serif*\n"
   ]
  },
  {
   "cell_type": "markdown",
   "metadata": {},
   "source": [
    "#### 1. Stel hypothesen op\n",
    "\n",
    "H0: er is geen verschil ($\\mu_{sansserif} \\le \\mu_{populatie}$)\n",
    "\n",
    "H1: er is een verschil ($\\mu_{sansserif} > \\mu_{populatie}$)\n",
    "\n",
    "Er is sprake van een _rechtszijdige_ toets."
   ]
  },
  {
   "cell_type": "code",
   "execution_count": null,
   "metadata": {},
   "outputs": [],
   "source": [
    "n = 100\n",
    "print(\"Steekproefgrootte n = {}\".format(n))\n",
    "x_ = 246\n",
    "print(\"Steekproefgemiddelde x = {:.2f}\".format(x_))\n",
    "s = 20\n",
    "print(\"Standaardafwijking steekproef s = {:.2f}\".format(s))"
   ]
  },
  {
   "cell_type": "code",
   "execution_count": null,
   "metadata": {},
   "outputs": [],
   "source": [
    "# populatie\n",
    "mu = 240\n",
    "print(\"gemiddelde populatie mu = {:.4f}\".format(mu))\n",
    "\n",
    "# sigma is onbekend\n"
   ]
  },
  {
   "cell_type": "code",
   "execution_count": null,
   "metadata": {},
   "outputs": [],
   "source": [
    "# Standaardfout\n",
    "se = s/np.sqrt(n)\n",
    "print(\"Standaardfout se = {:.2f}\".format(se))"
   ]
  },
  {
   "cell_type": "markdown",
   "metadata": {},
   "source": [
    "#### 3. Bepaal de foutmarge\n",
    "\n",
    "Gegeven: $\\alpha = 0.05$\n"
   ]
  },
  {
   "cell_type": "code",
   "execution_count": null,
   "metadata": {},
   "outputs": [],
   "source": [
    "# Bereken grens van de z-waarde bij alpha\n",
    "alpha = 0.05\n",
    "\n",
    "z_grens = stats.norm.ppf((1-alpha) )\n",
    "print(\"De grens z_waarde is {:.2f}\".format(z_grens))\n",
    "grens = z_grens * se + mu\n",
    "print(\"De grenswaarde is {:.2f}\".format(grens))"
   ]
  },
  {
   "cell_type": "markdown",
   "metadata": {},
   "source": [
    "#### 4. Bereken z-waarde en p-waarde (maak een schets)"
   ]
  },
  {
   "cell_type": "code",
   "execution_count": null,
   "metadata": {},
   "outputs": [],
   "source": [
    "# Schets de verdeling \n",
    "x = np.linspace(230,250,100)\n",
    "nv = stats.norm(loc=mu, scale=s/np.sqrt(n))   \n",
    "y = nv.pdf(x)\n",
    "\n",
    "plt.figure(figsize=(12,6), dpi=80)\n",
    "plt.plot(x,y)\n",
    "plt.fill_between(x, y, where=(x>grens))\n",
    "\n",
    "# plaats van het steekproefgemiddelde\n",
    "plt.plot([x_,x_],[0,0.1])"
   ]
  },
  {
   "cell_type": "code",
   "execution_count": null,
   "metadata": {},
   "outputs": [],
   "source": [
    "# Bereken z-waarde\n",
    "z = (x_ - mu)/se\n",
    "print(\"De z-waarde (rechts) z = {:.2f}\".format(z))\n",
    "\n",
    "# Bereken p-waarde\n",
    "p = 1-stats.norm.cdf(z)\n",
    "print(\"De p-waarde p = {:.4f}\".format(p))"
   ]
  },
  {
   "cell_type": "markdown",
   "metadata": {},
   "source": [
    "#### 5. Conclusie\n",
    "\n",
    "Er geldt dat $p = 0.0013 < \\alpha = 0.05$.\n",
    "Dat p = 0.0013 betekent dat deze uitkomst niet door toeval kan plaatsvinden, \n",
    "dus we verwerpen $H_0$ en aanvaarden $H_A$: er is dus een significant verschil in leessnelheid.\n",
    "\n",
    "Alternatieve werkwijze: de z-grenswaarde is $1.64$, de bijbehorende grenswaarde in leessnelheid is $243.29$ secondes. Het steekproefgemiddelde van $\\bar{x} = 246$ secondes ligt voorbij deze grenswaarde, dus we moeten $H_{0}$ verwerpen.\n"
   ]
  },
  {
   "cell_type": "markdown",
   "metadata": {},
   "source": [
    "## Oefening - IQ\n",
    "\n",
    "Het IQ van de moeders van 36 hoogbegaafde kinderen is gemeten met een IQ-test. Is er een significant (>1%) verschil in IQ met het gemiddelde IQ van de Nederlandse populatie (gemiddeld IQ is 100)? "
   ]
  },
  {
   "cell_type": "code",
   "execution_count": null,
   "metadata": {},
   "outputs": [],
   "source": [
    "iq = np.array([101,\n",
    "          106,108,109,\n",
    "          111,112,113,113,114,114,114,\n",
    "          115,116,116,117,117,118,118,\n",
    "          118,119,119,119,119,119,119,\n",
    "          120,123,123,123,123,124,124,\n",
    "          127,129,130,\n",
    "          131])\n",
    "iq"
   ]
  },
  {
   "cell_type": "markdown",
   "metadata": {},
   "source": [
    "#### 1. Stel hypothesen op"
   ]
  },
  {
   "cell_type": "markdown",
   "metadata": {
    "tags": [
     "student"
    ]
   },
   "source": [
    ""
   ]
  },
  {
   "cell_type": "markdown",
   "metadata": {},
   "source": [
    "#### 2. Bereken de steekproefstatistieken"
   ]
  },
  {
   "cell_type": "code",
   "execution_count": null,
   "metadata": {
    "tags": [
     "student"
    ]
   },
   "outputs": [],
   "source": [
    ""
   ]
  },
  {
   "cell_type": "markdown",
   "metadata": {},
   "source": [
    "#### 3. Bepaal de foutmarge\n",
    "\n"
   ]
  },
  {
   "cell_type": "markdown",
   "metadata": {
    "tags": [
     "student"
    ]
   },
   "source": [
    ""
   ]
  },
  {
   "cell_type": "code",
   "execution_count": null,
   "metadata": {
    "tags": [
     "student"
    ]
   },
   "outputs": [],
   "source": [
    ""
   ]
  },
  {
   "cell_type": "markdown",
   "metadata": {},
   "source": [
    "#### 4. Bereken z-waarde en p-waarde (maak een schets)"
   ]
  },
  {
   "cell_type": "code",
   "execution_count": null,
   "metadata": {
    "tags": [
     "student"
    ]
   },
   "outputs": [],
   "source": [
    ""
   ]
  },
  {
   "cell_type": "code",
   "execution_count": null,
   "metadata": {
    "tags": [
     "student"
    ]
   },
   "outputs": [],
   "source": [
    ""
   ]
  },
  {
   "cell_type": "code",
   "execution_count": null,
   "metadata": {
    "tags": [
     "student"
    ]
   },
   "outputs": [],
   "source": [
    ""
   ]
  },
  {
   "cell_type": "markdown",
   "metadata": {
    "collapsed": true
   },
   "source": [
    "#### 5. Conclusie\n"
   ]
  },
  {
   "cell_type": "markdown",
   "metadata": {
    "tags": [
     "student"
    ]
   },
   "source": [
    ""
   ]
  },
  {
   "cell_type": "markdown",
   "metadata": {},
   "source": [
    "## Oefening - hematocriettest\n",
    "\n",
    "Bij wielrenner wordt een startverbod opgelegd bij een te hoge hematocriet (HT) waarde. \n",
    "- De grens is 0.50. \n",
    "- De standaarddeviatie $\\sigma$ is 0.05\n",
    "- Betrouwbaarheid: 10%"
   ]
  },
  {
   "cell_type": "code",
   "execution_count": null,
   "metadata": {},
   "outputs": [],
   "source": [
    "ht = np.array([0.51, 0.51, 0.52, 0.50, 0.53, 0.50, 0.51, 0.50, 0.51, 0.52])\n",
    "ht"
   ]
  },
  {
   "cell_type": "markdown",
   "metadata": {},
   "source": [
    "#### 1. Stel hypothesen op\n",
    "\n"
   ]
  },
  {
   "cell_type": "markdown",
   "metadata": {
    "tags": [
     "student"
    ]
   },
   "source": [
    ""
   ]
  },
  {
   "cell_type": "markdown",
   "metadata": {},
   "source": [
    "#### 2. Bereken de steekproefstatistieken"
   ]
  },
  {
   "cell_type": "code",
   "execution_count": null,
   "metadata": {
    "tags": [
     "student"
    ]
   },
   "outputs": [],
   "source": [
    ""
   ]
  },
  {
   "cell_type": "markdown",
   "metadata": {},
   "source": [
    "#### 3. Bepaal de foutmarge"
   ]
  },
  {
   "cell_type": "markdown",
   "metadata": {
    "tags": [
     "student"
    ]
   },
   "source": [
    ""
   ]
  },
  {
   "cell_type": "code",
   "execution_count": null,
   "metadata": {
    "tags": [
     "student"
    ]
   },
   "outputs": [],
   "source": [
    ""
   ]
  },
  {
   "cell_type": "markdown",
   "metadata": {},
   "source": [
    "#### 4. Bereken z-waarde en p-waarde (maak een schets)"
   ]
  },
  {
   "cell_type": "code",
   "execution_count": null,
   "metadata": {
    "tags": [
     "student"
    ]
   },
   "outputs": [],
   "source": [
    ""
   ]
  },
  {
   "cell_type": "code",
   "execution_count": null,
   "metadata": {
    "tags": [
     "student"
    ]
   },
   "outputs": [],
   "source": [
    ""
   ]
  },
  {
   "cell_type": "code",
   "execution_count": null,
   "metadata": {
    "tags": [
     "student"
    ]
   },
   "outputs": [],
   "source": [
    ""
   ]
  },
  {
   "cell_type": "markdown",
   "metadata": {},
   "source": [
    "#### 5. Conclusie\n"
   ]
  },
  {
   "cell_type": "markdown",
   "metadata": {
    "tags": [
     "student"
    ]
   },
   "source": [
    ""
   ]
  },
  {
   "cell_type": "markdown",
   "metadata": {},
   "source": [
    "## Oefening - CITO\n",
    "\n",
    "Halen de leerlingen een betere CITO score\n",
    "- Populatie gemiddelde: 400\n",
    "- Populatie standdaarddeviatie: 100\n"
   ]
  },
  {
   "cell_type": "code",
   "execution_count": null,
   "metadata": {},
   "outputs": [],
   "source": [
    "cito = np.array([434,694,457,534,720,400,484,478,610,641,425,636,454,514,563,370,499,640,501,625,612,471,598,509,531])\n",
    "cito"
   ]
  },
  {
   "cell_type": "markdown",
   "metadata": {},
   "source": [
    "#### 1. Stel hypothesen op"
   ]
  },
  {
   "cell_type": "markdown",
   "metadata": {
    "tags": [
     "student"
    ]
   },
   "source": [
    ""
   ]
  },
  {
   "cell_type": "markdown",
   "metadata": {},
   "source": [
    "#### 2. Bereken de steekproefstatistieken"
   ]
  },
  {
   "cell_type": "code",
   "execution_count": null,
   "metadata": {
    "tags": [
     "student"
    ]
   },
   "outputs": [],
   "source": [
    ""
   ]
  },
  {
   "cell_type": "markdown",
   "metadata": {},
   "source": [
    "#### 3. Bepaal de foutmarge\n",
    "\n",
    "\n"
   ]
  },
  {
   "cell_type": "markdown",
   "metadata": {
    "tags": [
     "student"
    ]
   },
   "source": [
    ""
   ]
  },
  {
   "cell_type": "code",
   "execution_count": null,
   "metadata": {
    "tags": [
     "student"
    ]
   },
   "outputs": [],
   "source": [
    ""
   ]
  },
  {
   "cell_type": "markdown",
   "metadata": {},
   "source": [
    "#### 4. Bereken z-waarde en p-waarde (maak een schets)"
   ]
  },
  {
   "cell_type": "code",
   "execution_count": null,
   "metadata": {
    "tags": [
     "student"
    ]
   },
   "outputs": [],
   "source": [
    ""
   ]
  },
  {
   "cell_type": "code",
   "execution_count": null,
   "metadata": {
    "tags": [
     "student"
    ]
   },
   "outputs": [],
   "source": [
    ""
   ]
  },
  {
   "cell_type": "code",
   "execution_count": null,
   "metadata": {
    "tags": [
     "student"
    ]
   },
   "outputs": [],
   "source": [
    ""
   ]
  },
  {
   "cell_type": "markdown",
   "metadata": {},
   "source": [
    "#### 5. Conclusie\n"
   ]
  },
  {
   "cell_type": "markdown",
   "metadata": {
    "tags": [
     "student"
    ]
   },
   "source": [
    ""
   ]
  },
  {
   "cell_type": "code",
   "execution_count": null,
   "metadata": {},
   "outputs": [],
   "source": []
  }
 ],
 "metadata": {
  "celltoolbar": "Tags",
  "kernelspec": {
   "display_name": "Python 3",
   "language": "python",
   "name": "python3"
  },
  "language_info": {
   "codemirror_mode": {
    "name": "ipython",
    "version": 3
   },
   "file_extension": ".py",
   "mimetype": "text/x-python",
   "name": "python",
   "nbconvert_exporter": "python",
   "pygments_lexer": "ipython3",
   "version": "3.7.4"
  }
 },
 "nbformat": 4,
 "nbformat_minor": 2
}
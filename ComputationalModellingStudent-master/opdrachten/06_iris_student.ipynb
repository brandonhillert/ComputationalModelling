{
 "cells": [
  {
   "cell_type": "markdown",
   "metadata": {},
   "source": [
    "# Opdracht 6. Irissen"
   ]
  },
  {
   "cell_type": "markdown",
   "metadata": {},
   "source": [
    "## Importeren van Iris-dataset\n",
    "\n",
    "Voordat je aan de opgaves kunt beginnen, moet je eerst de Iris-dataset kunnen inladen/hebben ingeladen."
   ]
  },
  {
   "cell_type": "code",
   "execution_count": 1,
   "metadata": {},
   "outputs": [],
   "source": [
    "import pandas as pd                                        # DataFrame-functionaliteit\n",
    "import numpy as np                                         # Converteren van DataBunch\n",
    "import matplotlib.pyplot as plt                            # Plotten van grafieken\n",
    "\n",
    "from sklearn import datasets                               # Bevat de Iris-dataset\n",
    "from sklearn.model_selection import train_test_split       # Opsplitsen Train/Test\n",
    "from sklearn.linear_model import LinearRegression          # Lineaire regressie\n",
    "from sklearn.cluster import KMeans                         # K-Means clustering\n",
    "from sklearn.neighbors import KNeighborsClassifier         # K-NearestNeighbors classifier\n",
    "from sklearn.metrics import accuracy_score                 # Meassuring accuracy\n",
    "\n",
    "%matplotlib notebook"
   ]
  },
  {
   "cell_type": "markdown",
   "metadata": {},
   "source": [
    "- Schrijf een Python-script voor het laden van de Iris-dataset, waarvan je de code steeds gebruikt bij de komende opgaves."
   ]
  },
  {
   "cell_type": "code",
   "execution_count": 2,
   "metadata": {
    "tags": [
     "student"
    ]
   },
   "outputs": [],
   "source": [
    ""
   ]
  },
  {
   "cell_type": "markdown",
   "metadata": {},
   "source": [
    "- Verdeel de Iris-dataset in een trainingset en een testset. Deze zullen bij alle opgaves gebruikt worden."
   ]
  },
  {
   "cell_type": "code",
   "execution_count": 3,
   "metadata": {
    "tags": [
     "student"
    ]
   },
   "outputs": [],
   "source": [
    ""
   ]
  },
  {
   "cell_type": "markdown",
   "metadata": {},
   "source": [
    "## Opgave 1. Lineaire regressie\n",
    "\n",
    "In deze opgave ga je lineaire regressie oefenen door het toe te passen op de Iris-dataset. Het is de bedoeling dat je dit doet door het uit te programmeren in Python."
   ]
  },
  {
   "cell_type": "markdown",
   "metadata": {},
   "source": [
    "- Lineaire regressie is tijdens de les in week 3 behandeld. Omschrijf in je eigen woorden wat lineaire regressie precies inhoudt. Leg dit uit door middel van een tekening."
   ]
  },
  {
   "cell_type": "markdown",
   "metadata": {
    "tags": [
     "student"
    ]
   },
   "source": [
    ""
   ]
  },
  {
   "cell_type": "markdown",
   "metadata": {},
   "source": [
    "- Bij lineaire regressie is het belangrijk dat metingen in een dataset gecorreleerd aan elkaar moeten zijn. Deze correlatie is te bewijzen door middel van een wiskundige formule. Welke formule is dat? Gebruik deze formule om te bepalen welke metingen in de Iris-dataset gecorreleerd zijn aan elkaar."
   ]
  },
  {
   "cell_type": "code",
   "execution_count": 4,
   "metadata": {
    "tags": [
     "student"
    ]
   },
   "outputs": [],
   "source": [
    ""
   ]
  },
  {
   "cell_type": "markdown",
   "metadata": {},
   "source": [
    "- Als je dit correct uitgevoerd hebt, weet je nu welke metingen gecorreleerd zijn aan elkaar. Het is aan jou de taak om de lineaire regressie tussen al deze gecorreleerde metingen toe te passen. Hierbij wordt bedoeld dat je steeds 2 metingen aan elkaar koppelt en dat je daarbij de formule tussen deze 2 metingen moet bepalen. Deze formule heeft altijd de vorm $y = ax + b$. Schrijf hiervoor een script in Python."
   ]
  },
  {
   "cell_type": "markdown",
   "metadata": {
    "tags": [
     "student"
    ]
   },
   "source": [
    ""
   ]
  },
  {
   "cell_type": "code",
   "execution_count": 5,
   "metadata": {
    "tags": [
     "student"
    ]
   },
   "outputs": [],
   "source": [
    ""
   ]
  },
  {
   "cell_type": "code",
   "execution_count": 6,
   "metadata": {
    "tags": [
     "student"
    ]
   },
   "outputs": [],
   "source": [
    ""
   ]
  },
  {
   "cell_type": "markdown",
   "metadata": {
    "collapsed": true
   },
   "source": [
    "- Genereer van alle correlaties plots: een scatterplot voor alle meetpunten met daarin de lijn van de bijbehorende lineaire regressie."
   ]
  },
  {
   "cell_type": "code",
   "execution_count": 7,
   "metadata": {
    "tags": [
     "student"
    ]
   },
   "outputs": [],
   "source": [
    ""
   ]
  },
  {
   "cell_type": "markdown",
   "metadata": {},
   "source": [
    "- Als je de plots bekijkt die je hebt, dan zie je dat er datapunten zijn die heel ver van regressielijn liggen. Dit zijn zogenaamde _outliers_. Deze outliers hebben een groot negatief effect op de lineaire regressie met de andere datapunten. Om te kijken hoeveel effect deze outliers hebben op de lineaire moet je alle outliers uit je metingen verwijderen en dezelfde gecorreleerde metingen weer plotten. "
   ]
  },
  {
   "cell_type": "markdown",
   "metadata": {
    "tags": [
     "student"
    ]
   },
   "source": [
    ""
   ]
  },
  {
   "cell_type": "code",
   "execution_count": 8,
   "metadata": {
    "tags": [
     "student"
    ]
   },
   "outputs": [],
   "source": [
    ""
   ]
  },
  {
   "cell_type": "code",
   "execution_count": 9,
   "metadata": {
    "tags": [
     "student"
    ]
   },
   "outputs": [],
   "source": [
    ""
   ]
  },
  {
   "cell_type": "code",
   "execution_count": 10,
   "metadata": {
    "tags": [
     "student"
    ]
   },
   "outputs": [],
   "source": [
    ""
   ]
  },
  {
   "cell_type": "markdown",
   "metadata": {},
   "source": [
    "## Opgave 2. k-Nearest Neighbours"
   ]
  },
  {
   "cell_type": "markdown",
   "metadata": {},
   "source": [
    "-\tLeg in je eigen woorden uit wat k-Nearest Neighbours (k-NN) inhoudt en hoe het algoritme werkt. "
   ]
  },
  {
   "cell_type": "markdown",
   "metadata": {
    "tags": [
     "student"
    ]
   },
   "source": [
    ""
   ]
  },
  {
   "cell_type": "markdown",
   "metadata": {},
   "source": [
    "-\tVerdeel je Iris-dataset in een nieuwe trainingset en een nieuwe testset. "
   ]
  },
  {
   "cell_type": "code",
   "execution_count": null,
   "metadata": {
    "tags": [
     "student"
    ]
   },
   "outputs": [],
   "source": [
    ""
   ]
  },
  {
   "cell_type": "markdown",
   "metadata": {},
   "source": [
    "-\tMaak eerst de k-NN-classifier aan, waarbij je het aantal van k voorlopig op 1 zet. "
   ]
  },
  {
   "cell_type": "code",
   "execution_count": null,
   "metadata": {
    "tags": [
     "student"
    ]
   },
   "outputs": [],
   "source": [
    ""
   ]
  },
  {
   "cell_type": "markdown",
   "metadata": {},
   "source": [
    "-\tTrain de classifier op de trainingset van de Iris-dataset. Daarna is hij klaar voor gebruik. "
   ]
  },
  {
   "cell_type": "code",
   "execution_count": null,
   "metadata": {
    "tags": [
     "student"
    ]
   },
   "outputs": [],
   "source": [
    ""
   ]
  },
  {
   "cell_type": "markdown",
   "metadata": {},
   "source": [
    "-\tGebruik de Iris-dataset om de data te classificeren."
   ]
  },
  {
   "cell_type": "code",
   "execution_count": 11,
   "metadata": {
    "tags": [
     "student"
    ]
   },
   "outputs": [],
   "source": [
    ""
   ]
  },
  {
   "cell_type": "markdown",
   "metadata": {},
   "source": [
    "-\tBepaal de optimale k. Dit doe je door je Python-script meerdere keren te draaien bij verschillende k’s en bij elk run te bepalen wat de performance ervan is. "
   ]
  },
  {
   "cell_type": "code",
   "execution_count": 12,
   "metadata": {
    "tags": [
     "student"
    ]
   },
   "outputs": [],
   "source": [
    ""
   ]
  },
  {
   "cell_type": "code",
   "execution_count": 13,
   "metadata": {
    "tags": [
     "student"
    ]
   },
   "outputs": [],
   "source": [
    ""
   ]
  },
  {
   "cell_type": "markdown",
   "metadata": {
    "tags": [
     "student"
    ]
   },
   "source": [
    ""
   ]
  },
  {
   "cell_type": "markdown",
   "metadata": {},
   "source": [
    "-\tMaak tot slot gebruik van de testset uit opgave 3.B van de Iris-dataset en maak gebruik van de getrainde classifier uit opgave 3.C om te bepalen tot welke plantensoort elk regel aan metingen behoort. "
   ]
  },
  {
   "cell_type": "code",
   "execution_count": 14,
   "metadata": {
    "tags": [
     "student"
    ]
   },
   "outputs": [],
   "source": [
    ""
   ]
  },
  {
   "cell_type": "markdown",
   "metadata": {},
   "source": [
    "## Opgave 3. Data Mining: Clustering\n",
    "\n",
    "In deze opgave moet je op de Iris-dataset data mining gaan toepassen met behulp van het k-means-algoritme. De Iris-dataset bestaat uit 3 x 50 sets aan data over de volgende planten: _Iris setosa_, _Iris versicolor_ en _Iris virginica_. Met behulp van die 50 sets aan data is het mogelijk te classificeren welke plantensoort het is aan de hand van zijn data."
   ]
  },
  {
   "cell_type": "markdown",
   "metadata": {
    "collapsed": true
   },
   "source": [
    "- Schrijf Python-code om het k-means-algoritme te initiëren en om er daarna mee te trainen op de trainingset. "
   ]
  },
  {
   "cell_type": "code",
   "execution_count": 15,
   "metadata": {
    "tags": [
     "student"
    ]
   },
   "outputs": [],
   "source": [
    ""
   ]
  },
  {
   "cell_type": "markdown",
   "metadata": {},
   "source": [
    "- K-means heeft de Iris-data geclusterd. Schrijf Python-code om te zien wat k-means gedaan heeft, bepaal welk cluster bij welke plantensoort hoort en bepaal de accurraatheid (`accuracy_score()`) van de clustering."
   ]
  },
  {
   "cell_type": "code",
   "execution_count": 16,
   "metadata": {
    "tags": [
     "student"
    ]
   },
   "outputs": [],
   "source": [
    ""
   ]
  },
  {
   "cell_type": "code",
   "execution_count": 17,
   "metadata": {
    "tags": [
     "student"
    ]
   },
   "outputs": [],
   "source": [
    ""
   ]
  },
  {
   "cell_type": "markdown",
   "metadata": {
    "tags": [
     "student"
    ]
   },
   "source": [
    ""
   ]
  },
  {
   "cell_type": "code",
   "execution_count": 18,
   "metadata": {
    "tags": [
     "student"
    ]
   },
   "outputs": [],
   "source": [
    ""
   ]
  },
  {
   "cell_type": "markdown",
   "metadata": {
    "tags": [
     "student"
    ]
   },
   "source": [
    ""
   ]
  },
  {
   "cell_type": "code",
   "execution_count": 19,
   "metadata": {
    "tags": [
     "student"
    ]
   },
   "outputs": [],
   "source": [
    ""
   ]
  },
  {
   "cell_type": "markdown",
   "metadata": {},
   "source": [
    "- Achterhaal de centroids van de clusters. "
   ]
  },
  {
   "cell_type": "code",
   "execution_count": 20,
   "metadata": {
    "tags": [
     "student"
    ]
   },
   "outputs": [],
   "source": [
    ""
   ]
  },
  {
   "cell_type": "markdown",
   "metadata": {},
   "source": [
    "- Je k-meansclustering kan nu nieuwe instanties (c.q. observaties) in de gevonden clusters plaatsen. Bepaal (met kmeans.predict(points)) in welk cluster elk van de punten uit de testset zit."
   ]
  },
  {
   "cell_type": "markdown",
   "metadata": {
    "tags": [
     "student"
    ]
   },
   "source": [
    ""
   ]
  },
  {
   "cell_type": "markdown",
   "metadata": {},
   "source": [
    "- Bepaal de soort van de iris die ik vanochtend onderweg naar de HU heb geobserveerd. Deze had een kelkblad met lengte 5,45 en breedte 3,0 en kroonblad van lengte 4,5 en breedte 1,8."
   ]
  },
  {
   "cell_type": "code",
   "execution_count": 21,
   "metadata": {
    "tags": [
     "student"
    ]
   },
   "outputs": [],
   "source": [
    ""
   ]
  }
 ],
 "metadata": {
  "anaconda-cloud": {},
  "celltoolbar": "Tags",
  "kernelspec": {
   "display_name": "Python 3",
   "language": "python",
   "name": "python3"
  },
  "language_info": {
   "codemirror_mode": {
    "name": "ipython",
    "version": 3
   },
   "file_extension": ".py",
   "mimetype": "text/x-python",
   "name": "python",
   "nbconvert_exporter": "python",
   "pygments_lexer": "ipython3",
   "version": "3.6.5"
  }
 },
 "nbformat": 4,
 "nbformat_minor": 2
}
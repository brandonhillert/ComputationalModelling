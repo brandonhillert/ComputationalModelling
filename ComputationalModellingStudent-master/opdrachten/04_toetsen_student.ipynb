{
 "cells": [
  {
   "cell_type": "markdown",
   "metadata": {},
   "source": [
    "# Opdracht 4. Toetsuitslagen\n",
    "\n",
    "\n",
    "In deze opdracht gaan we de toetsuitslagen analyseren van twee eerstejaarsvakken:\n",
    "1. Computer Systems and Networks (CSN)\n",
    "2. Modelling (PROG)\n",
    "\n",
    "Voor elk van deze tentamens zijn de tentamenuitslagen beschikbaar gesteld in de volgende bestanden:\n",
    "1. uitslag_csn.xlsx\n",
    "2. uitslag_prog.xlsx\n",
    "\n",
    "NB. De datasets staan in het excel-formaat"
   ]
  },
  {
   "cell_type": "markdown",
   "metadata": {},
   "source": [
    "## Opgave 1.\n",
    "\n",
    "We zullen voor de analyses gebruik maken van `pandas` en `matplotlib`. Importeer hiervoor de juiste biblioteheken.\n",
    "\n",
    "Voor het renderen van één van de grafieken zullen we Seaborn gebruiken, extra functionaliteit bovenop Matplotlib. Seaborn is standaard geinstalleerd als je Anaconda gebruikt. In de overige gevallen kun je Seaborn als volgt installeren:\n",
    "\n",
    "1. Open een terminal: Win+R -> cmd -> enter\n",
    "2. Installeer via de anaconda package manager: conda install seaborn"
   ]
  },
  {
   "cell_type": "code",
   "execution_count": null,
   "metadata": {},
   "outputs": [],
   "source": [
    "# Bibliotheken\n",
    "from datetime import datetime\n",
    "import pandas as pd\n",
    "import numpy as np\n",
    "import scipy as sp\n",
    "from scipy import stats\n",
    "import matplotlib.pyplot as plt\n",
    "import seaborn as sns\n",
    "\n",
    "%matplotlib inline"
   ]
  },
  {
   "cell_type": "markdown",
   "metadata": {},
   "source": [
    "## Opgave 2.\n",
    "\n",
    "- Importeer de datasets in geschikte dataframes en beschrijf de dataset:\n",
    "  * Wat zijn de dimensies van het dataframe?\n",
    "  * Wat zijn de attributen in het dataframe? Zijn er missende waarden?\n",
    "  * Wat zijn de datatypes voor de attributen? Van welk type is iedere dimensie (nominaal/categoriaal/discreet/continue)? Plaats de antwoorden in een tabel."
   ]
  },
  {
   "cell_type": "markdown",
   "metadata": {
    "tags": [
     "student"
    ]
   },
   "source": [
    ""
   ]
  },
  {
   "cell_type": "code",
   "execution_count": null,
   "metadata": {
    "tags": [
     "student"
    ]
   },
   "outputs": [],
   "source": [
    ""
   ]
  },
  {
   "cell_type": "code",
   "execution_count": null,
   "metadata": {
    "tags": [
     "student"
    ]
   },
   "outputs": [],
   "source": [
    ""
   ]
  },
  {
   "cell_type": "code",
   "execution_count": null,
   "metadata": {
    "tags": [
     "student"
    ]
   },
   "outputs": [],
   "source": [
    ""
   ]
  },
  {
   "cell_type": "markdown",
   "metadata": {},
   "source": [
    "- De excel-file bevatte dezelfde header-name voor alle scores. De importer heeft dit voor je opgelost door duplicate header-namen te nummeren. Nadeel is echter dat de eerste zelf geen nummer heeft. Manipuleer de headers zodat de telling begint met Score.1 ipv. Score (merk op dat Score.1 dan hernoemt moet worden naar Score.2, etc.). Toon hierna de eerste 10 regels van het dataframe.\n",
    "\n",
    "\n"
   ]
  },
  {
   "cell_type": "code",
   "execution_count": null,
   "metadata": {
    "tags": [
     "student"
    ]
   },
   "outputs": [],
   "source": [
    ""
   ]
  },
  {
   "cell_type": "code",
   "execution_count": null,
   "metadata": {
    "tags": [
     "student"
    ]
   },
   "outputs": [],
   "source": [
    ""
   ]
  },
  {
   "cell_type": "code",
   "execution_count": null,
   "metadata": {
    "tags": [
     "student"
    ]
   },
   "outputs": [],
   "source": [
    ""
   ]
  },
  {
   "cell_type": "markdown",
   "metadata": {},
   "source": [
    "- Het datatype van kolom 'eindtijd' zou overduidelijk een tijdstip moeten zijn, maar `dtypes` geeft aan dat het een object is. Converteer deze kolom naar een datetime. Tip: gebruik`to_datetime()` van Pandas.\n"
   ]
  },
  {
   "cell_type": "code",
   "execution_count": null,
   "metadata": {
    "tags": [
     "student"
    ]
   },
   "outputs": [],
   "source": [
    ""
   ]
  },
  {
   "cell_type": "code",
   "execution_count": null,
   "metadata": {
    "scrolled": false,
    "tags": [
     "student"
    ]
   },
   "outputs": [],
   "source": [
    ""
   ]
  },
  {
   "cell_type": "markdown",
   "metadata": {},
   "source": [
    "- Bepaal vast een paar statistieken van de dataset met `describe()`. Wat betekenen deze getallen?\n"
   ]
  },
  {
   "cell_type": "code",
   "execution_count": null,
   "metadata": {
    "tags": [
     "student"
    ]
   },
   "outputs": [],
   "source": [
    ""
   ]
  },
  {
   "cell_type": "markdown",
   "metadata": {},
   "source": [
    "- StudentNummer wordt behandeld als een continue getal, maar eigenlijk zou het type nominaal moet zijn. Converteer het type van StudentNummer naar Categorial m.b.v. ***astype***. Voer nu nogmaals ***describe*** uit. Wat is er veranderd?\n"
   ]
  },
  {
   "cell_type": "code",
   "execution_count": null,
   "metadata": {
    "tags": [
     "student"
    ]
   },
   "outputs": [],
   "source": [
    ""
   ]
  },
  {
   "cell_type": "code",
   "execution_count": null,
   "metadata": {
    "tags": [
     "student"
    ]
   },
   "outputs": [],
   "source": [
    ""
   ]
  },
  {
   "cell_type": "code",
   "execution_count": null,
   "metadata": {
    "tags": [
     "student"
    ]
   },
   "outputs": [],
   "source": [
    ""
   ]
  },
  {
   "cell_type": "markdown",
   "metadata": {},
   "source": [
    "- Plot een histogram voor het attribuut `Eindtijd` (zorg dat de labels op de assen niet overlappen). Beschrijf de verdeling (scheef? multimodaal? normaal?). Verklaar wat je ziet."
   ]
  },
  {
   "cell_type": "code",
   "execution_count": null,
   "metadata": {
    "tags": [
     "student"
    ]
   },
   "outputs": [],
   "source": [
    ""
   ]
  },
  {
   "cell_type": "markdown",
   "metadata": {},
   "source": [
    "## Opgave 3. Toetsanalyse - centrummaten\n",
    "\n",
    "In deze opdracht zullen we de vragen van het tentamen analyseren."
   ]
  },
  {
   "cell_type": "markdown",
   "metadata": {},
   "source": [
    "- Bereken het gemiddelde. De mogelijke waarden bij iedere score is 0 of 1, maar de gemiddelden zijn hier decimale (gebroken) getallen. \n",
    "  * Hoe dien je dit te interpreteren?\n",
    "  * Als het gemiddelde van een vraag hoog is, kun je dan de volgende *kwalitatieve* uitspraak doen: \"De vraag was makkelijk\"? Waarom (niet)?\n",
    "  "
   ]
  },
  {
   "cell_type": "code",
   "execution_count": null,
   "metadata": {
    "scrolled": true,
    "tags": [
     "student"
    ]
   },
   "outputs": [],
   "source": [
    ""
   ]
  },
  {
   "cell_type": "markdown",
   "metadata": {},
   "source": [
    "- Plot de gemiddelden per vraag in een barchart en daarna in een linechart. Plot nogmaals de gemiddelden, maar dan gesorteerd op gemiddelde. Tip: maak gebruik van het feit dat `mean()` een dataframe oplevert.\n",
    "  "
   ]
  },
  {
   "cell_type": "code",
   "execution_count": null,
   "metadata": {
    "tags": [
     "student"
    ]
   },
   "outputs": [],
   "source": [
    ""
   ]
  },
  {
   "cell_type": "markdown",
   "metadata": {},
   "source": [
    "- Bereken de mediaan. Zie je een relatie tussen de mediaan en het gemiddelde? Is deze relatie er altijd?   "
   ]
  },
  {
   "cell_type": "code",
   "execution_count": null,
   "metadata": {
    "tags": [
     "student"
    ]
   },
   "outputs": [],
   "source": [
    ""
   ]
  },
  {
   "cell_type": "markdown",
   "metadata": {},
   "source": [
    "- Bereken de modus. \n",
    "    * Waarom zie je voor de maat wél StudentNummer als kolom terug in het resultaat? \n",
    "    * Waarom zie je meerdere rijen?\n",
    "    * Waarom bevatten sommige cellen NaN?"
   ]
  },
  {
   "cell_type": "code",
   "execution_count": null,
   "metadata": {
    "scrolled": true,
    "tags": [
     "student"
    ]
   },
   "outputs": [],
   "source": [
    ""
   ]
  },
  {
   "cell_type": "markdown",
   "metadata": {},
   "source": [
    "## Opgave 4. Toetsanalyse - spreidingsmaten\n",
    "\n",
    "We gaan verder met het analyseren van de vragen."
   ]
  },
  {
   "cell_type": "code",
   "execution_count": null,
   "metadata": {
    "tags": [
     "student"
    ]
   },
   "outputs": [],
   "source": [
    ""
   ]
  },
  {
   "cell_type": "markdown",
   "metadata": {},
   "source": [
    "- Bereken de variantie.\n",
    "    * Wat zegt dit getal?\n",
    "    * Wat voor *kwalitatieve* uitspraak kun je doen over een vraag als de variantie hoog is?"
   ]
  },
  {
   "cell_type": "code",
   "execution_count": null,
   "metadata": {
    "scrolled": false,
    "tags": [
     "student"
    ]
   },
   "outputs": [],
   "source": [
    ""
   ]
  },
  {
   "cell_type": "markdown",
   "metadata": {},
   "source": [
    "- Bereken de standaard deviatie. \n",
    "    * Hoe verschilt deze maat van de variantie? \n",
    "    * Is er een verband tussen de standaard deviatie en variantie? Welke van beide maten is intuitiever?"
   ]
  },
  {
   "cell_type": "code",
   "execution_count": null,
   "metadata": {
    "scrolled": true,
    "tags": [
     "student"
    ]
   },
   "outputs": [],
   "source": [
    ""
   ]
  },
  {
   "cell_type": "markdown",
   "metadata": {},
   "source": [
    "- Plot nogmaals de gemiddelden per vraag, maar visualiseer nu ook de standaard deviatie.Is er op het oog een verband tussen de centrummaat en de spreidingsmaat? Tip: gebruik de parameter `yerr` van de functie `plot.bar()`. \n",
    "    "
   ]
  },
  {
   "cell_type": "code",
   "execution_count": null,
   "metadata": {
    "tags": [
     "student"
    ]
   },
   "outputs": [],
   "source": [
    ""
   ]
  },
  {
   "cell_type": "markdown",
   "metadata": {},
   "source": [
    "## Opgave 5. Studentanalyse"
   ]
  },
  {
   "cell_type": "markdown",
   "metadata": {},
   "source": [
    "- Bepaal de gemiddelde scores per student en toon de hoogstscorende eerst.\n"
   ]
  },
  {
   "cell_type": "code",
   "execution_count": null,
   "metadata": {
    "tags": [
     "student"
    ]
   },
   "outputs": [],
   "source": [
    ""
   ]
  },
  {
   "cell_type": "markdown",
   "metadata": {
    "tags": [
     "student"
    ]
   },
   "source": [
    ""
   ]
  },
  {
   "cell_type": "code",
   "execution_count": null,
   "metadata": {
    "tags": [
     "student"
    ]
   },
   "outputs": [],
   "source": [
    ""
   ]
  },
  {
   "cell_type": "markdown",
   "metadata": {},
   "source": [
    "- Bepaal het totale gemiddelde over alle studenten. Doe dit nogmaals, maar dan alleen de studenten die een voldoende hebben gescoord."
   ]
  },
  {
   "cell_type": "code",
   "execution_count": null,
   "metadata": {
    "tags": [
     "student"
    ]
   },
   "outputs": [],
   "source": [
    ""
   ]
  },
  {
   "cell_type": "code",
   "execution_count": null,
   "metadata": {
    "tags": [
     "student"
    ]
   },
   "outputs": [],
   "source": [
    ""
   ]
  },
  {
   "cell_type": "markdown",
   "metadata": {},
   "source": [
    "- Plot een histogram van de eindcijfers met `distplot()` van Seaborn). Wat kun je zeggen over de verdeling (scheef? multimodaal? normaal?) En voor cijfer?"
   ]
  },
  {
   "cell_type": "code",
   "execution_count": null,
   "metadata": {
    "scrolled": true,
    "tags": [
     "student"
    ]
   },
   "outputs": [],
   "source": [
    ""
   ]
  },
  {
   "cell_type": "code",
   "execution_count": null,
   "metadata": {
    "scrolled": false,
    "tags": [
     "student"
    ]
   },
   "outputs": [],
   "source": [
    ""
   ]
  },
  {
   "cell_type": "markdown",
   "metadata": {},
   "source": [
    "- Laten we aannemen dat de cijfers normaal verdeeld zijn. Welke parameters heeft een normaalverdeling?\n"
   ]
  },
  {
   "cell_type": "code",
   "execution_count": null,
   "metadata": {
    "tags": [
     "student"
    ]
   },
   "outputs": [],
   "source": [
    ""
   ]
  },
  {
   "cell_type": "markdown",
   "metadata": {},
   "source": [
    "- Wat zijn deze parameters voor onze cijfer-verdeling? Sla deze verdeling op in een variable **C** en plot **C**. Gebruik hiervoor `norm` van `SciPy`."
   ]
  },
  {
   "cell_type": "code",
   "execution_count": null,
   "metadata": {
    "tags": [
     "student"
    ]
   },
   "outputs": [],
   "source": [
    ""
   ]
  },
  {
   "cell_type": "markdown",
   "metadata": {},
   "source": [
    "- Bereken:\n",
    " * $\\Pr(C < 6)$. Tip: gebruik `cdf()`\n",
    " * $\\Pr(C > 8,5)$\n",
    " * $\\Pr(C > 10)$. Leg uit waarom dit groter dan 0 is.\n",
    " * $\\Pr(6 < C < 8,5)$.\n",
    " * $\\Pr(C < 6 \\lor C > 8,5) \\>$ ($\\lor$ is wiskundige notatie voor OR)\n"
   ]
  },
  {
   "cell_type": "code",
   "execution_count": null,
   "metadata": {
    "tags": [
     "student"
    ]
   },
   "outputs": [],
   "source": [
    ""
   ]
  },
  {
   "cell_type": "markdown",
   "metadata": {},
   "source": [
    "- Plot nogmaals de normaalverdeling, dit maal met het oppervlak 6 < cijfer < 8,5 ingekleurd. Tip: gebruik `fill_between()`)\n"
   ]
  },
  {
   "cell_type": "code",
   "execution_count": null,
   "metadata": {
    "scrolled": true,
    "tags": [
     "student"
    ]
   },
   "outputs": [],
   "source": [
    ""
   ]
  },
  {
   "cell_type": "markdown",
   "metadata": {},
   "source": [
    "- Welk cijfer moet je minimaal hebben om bij de top 10% van de klas te behoren?\n"
   ]
  },
  {
   "cell_type": "code",
   "execution_count": null,
   "metadata": {
    "tags": [
     "student"
    ]
   },
   "outputs": [],
   "source": [
    ""
   ]
  },
  {
   "cell_type": "markdown",
   "metadata": {},
   "source": [
    "## Opgave 6. Studentanalyse - correlatie\n"
   ]
  },
  {
   "cell_type": "markdown",
   "metadata": {},
   "source": [
    "- Is er een correlatie tussen de cijfers van CSN en PROG? (Tip: zorg ervoor dat studenten die niet aan beide toetsen hebben deelgenomen worden genegeerd). Hoeveel procent van de variabiliteit tussen de cijfers kunnen we verklaren met een linear verband?"
   ]
  },
  {
   "cell_type": "code",
   "execution_count": null,
   "metadata": {
    "tags": [
     "student"
    ]
   },
   "outputs": [],
   "source": [
    ""
   ]
  },
  {
   "cell_type": "code",
   "execution_count": null,
   "metadata": {
    "tags": [
     "student"
    ]
   },
   "outputs": [],
   "source": [
    ""
   ]
  },
  {
   "cell_type": "code",
   "execution_count": null,
   "metadata": {
    "tags": [
     "student"
    ]
   },
   "outputs": [],
   "source": [
    ""
   ]
  },
  {
   "cell_type": "markdown",
   "metadata": {},
   "source": [
    "## Opgave 7. Klasanalyse\n",
    "\n",
    "In deze opgave zullen we de klassen analyseren. Hiertoe dienen we de dataset in `klassenindeling.xslx` te laden.\n"
   ]
  },
  {
   "cell_type": "markdown",
   "metadata": {},
   "source": [
    "- Breid de huidige dataframes uit met klassgegevens. Zijn er studenten zonder klas?"
   ]
  },
  {
   "cell_type": "code",
   "execution_count": null,
   "metadata": {
    "scrolled": true,
    "tags": [
     "student"
    ]
   },
   "outputs": [],
   "source": [
    ""
   ]
  },
  {
   "cell_type": "code",
   "execution_count": null,
   "metadata": {
    "tags": [
     "student"
    ]
   },
   "outputs": [],
   "source": [
    ""
   ]
  },
  {
   "cell_type": "code",
   "execution_count": null,
   "metadata": {
    "tags": [
     "student"
    ]
   },
   "outputs": [],
   "source": [
    ""
   ]
  },
  {
   "cell_type": "code",
   "execution_count": null,
   "metadata": {
    "scrolled": true,
    "tags": [
     "student"
    ]
   },
   "outputs": [],
   "source": [
    ""
   ]
  },
  {
   "cell_type": "code",
   "execution_count": null,
   "metadata": {
    "tags": [
     "student"
    ]
   },
   "outputs": [],
   "source": [
    ""
   ]
  },
  {
   "cell_type": "code",
   "execution_count": null,
   "metadata": {
    "tags": [
     "student"
    ]
   },
   "outputs": [],
   "source": [
    ""
   ]
  },
  {
   "cell_type": "markdown",
   "metadata": {},
   "source": [
    "- Bereken een nieuw dataframe met statistieken per klas, bestaande uit:\n",
    "  1. gemiddelde cijfer\n",
    "  2. standaard deviatie cijfer\n",
    "  3. goedpercentage per vraag\n",
    "  4. slagingspercentage\n"
   ]
  },
  {
   "cell_type": "code",
   "execution_count": null,
   "metadata": {
    "tags": [
     "student"
    ]
   },
   "outputs": [],
   "source": [
    ""
   ]
  },
  {
   "cell_type": "code",
   "execution_count": null,
   "metadata": {
    "tags": [
     "student"
    ]
   },
   "outputs": [],
   "source": [
    ""
   ]
  },
  {
   "cell_type": "code",
   "execution_count": null,
   "metadata": {
    "tags": [
     "student"
    ]
   },
   "outputs": [],
   "source": [
    ""
   ]
  },
  {
   "cell_type": "code",
   "execution_count": null,
   "metadata": {
    "tags": [
     "student"
    ]
   },
   "outputs": [],
   "source": [
    ""
   ]
  },
  {
   "cell_type": "markdown",
   "metadata": {},
   "source": [
    "- Plot het gemiddelde per vraag in een linechart en gebruik voor iedere klas een aparte lijn.\n"
   ]
  },
  {
   "cell_type": "code",
   "execution_count": null,
   "metadata": {
    "tags": [
     "student"
    ]
   },
   "outputs": [],
   "source": [
    ""
   ]
  },
  {
   "cell_type": "markdown",
   "metadata": {},
   "source": [
    "- Bepaal of er klassen zijn waarbij het slagingspercentage hoger is dan het gemiddelde. Hoe kun je dit verklaren?\n"
   ]
  },
  {
   "cell_type": "code",
   "execution_count": null,
   "metadata": {
    "tags": [
     "student"
    ]
   },
   "outputs": [],
   "source": [
    ""
   ]
  },
  {
   "cell_type": "code",
   "execution_count": null,
   "metadata": {
    "tags": [
     "student"
    ]
   },
   "outputs": [],
   "source": [
    ""
   ]
  },
  {
   "cell_type": "code",
   "execution_count": null,
   "metadata": {
    "tags": [
     "student"
    ]
   },
   "outputs": [],
   "source": [
    ""
   ]
  },
  {
   "cell_type": "code",
   "execution_count": null,
   "metadata": {
    "tags": [
     "student"
    ]
   },
   "outputs": [],
   "source": [
    ""
   ]
  },
  {
   "cell_type": "code",
   "execution_count": null,
   "metadata": {
    "tags": [
     "student"
    ]
   },
   "outputs": [],
   "source": [
    ""
   ]
  },
  {
   "cell_type": "markdown",
   "metadata": {},
   "source": [
    "- Een student verkondigt trots dat zij een 8,2 heeft gehaald voor PROG. Ze is benieuwd hoeveel procent van de studenten het beter heeft gemaakt dan zij.\n",
    "  * Bepaal de z-score van deze student op basis van de gehele populatie. Wat zegt deze score?\n",
    "  * Bepaal per klas hoeveel procent van de klas beter heeft gescoord."
   ]
  },
  {
   "cell_type": "code",
   "execution_count": null,
   "metadata": {
    "tags": [
     "student"
    ]
   },
   "outputs": [],
   "source": [
    ""
   ]
  },
  {
   "cell_type": "code",
   "execution_count": null,
   "metadata": {
    "scrolled": false,
    "tags": [
     "student"
    ]
   },
   "outputs": [],
   "source": [
    ""
   ]
  },
  {
   "cell_type": "code",
   "execution_count": null,
   "metadata": {
    "scrolled": true,
    "tags": [
     "student"
    ]
   },
   "outputs": [],
   "source": [
    ""
   ]
  },
  {
   "cell_type": "code",
   "execution_count": null,
   "metadata": {
    "tags": [
     "student"
    ]
   },
   "outputs": [],
   "source": [
    ""
   ]
  },
  {
   "cell_type": "code",
   "execution_count": null,
   "metadata": {
    "tags": [
     "student"
    ]
   },
   "outputs": [],
   "source": [
    ""
   ]
  }
 ],
 "metadata": {
  "anaconda-cloud": {},
  "celltoolbar": "Tags",
  "kernelspec": {
   "display_name": "Python 3",
   "language": "python",
   "name": "python3"
  },
  "language_info": {
   "codemirror_mode": {
    "name": "ipython",
    "version": 3
   },
   "file_extension": ".py",
   "mimetype": "text/x-python",
   "name": "python",
   "nbconvert_exporter": "python",
   "pygments_lexer": "ipython3",
   "version": "3.7.5"
  }
 },
 "nbformat": 4,
 "nbformat_minor": 1
}